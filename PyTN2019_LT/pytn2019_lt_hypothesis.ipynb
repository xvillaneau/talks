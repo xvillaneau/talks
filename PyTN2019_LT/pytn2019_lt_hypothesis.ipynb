{
 "cells": [
  {
   "cell_type": "markdown",
   "metadata": {
    "slideshow": {
     "slide_type": "slide"
    }
   },
   "source": [
    "# Hypothesis is Awesome!\n",
    "\n",
    "Xavier Villaneau - _Sr. Software Engineer, Pandora Media Inc._\n",
    "\n",
    "PyTennessee 2019 Lightning Talks"
   ]
  },
  {
   "cell_type": "markdown",
   "metadata": {
    "slideshow": {
     "slide_type": "slide"
    }
   },
   "source": [
    "Simple test of a simple function"
   ]
  },
  {
   "cell_type": "code",
   "execution_count": 1,
   "metadata": {
    "slideshow": {
     "slide_type": "-"
    }
   },
   "outputs": [
    {
     "name": "stdout",
     "output_type": "stream",
     "text": [
      "Test passed!\n"
     ]
    }
   ],
   "source": [
    "def get_car_id(str_id: str) -> int:\n",
    "    if str_id[0] != 'c' or not str_id[1:].isdigit():\n",
    "        return -1\n",
    "    return int(str_id[1:])\n",
    "\n",
    "def test_thing():\n",
    "    assert get_car_id(\"c1234\") == 1234\n",
    "    assert get_car_id(\"1234\") == -1\n",
    "    assert get_car_id(\"c0xbeef\") == -1\n",
    "    print(\"Test passed!\")\n",
    "\n",
    "test_thing()"
   ]
  },
  {
   "cell_type": "markdown",
   "metadata": {
    "slideshow": {
     "slide_type": "slide"
    }
   },
   "source": [
    "Hypothesis demonstration:\n",
    "* Use `@given` to activate hypothesis\n",
    "* Use `strategies` objects to specify the input\n",
    "\n",
    "Hypothesis tests 100 inputs by default."
   ]
  },
  {
   "cell_type": "code",
   "execution_count": 2,
   "metadata": {
    "slideshow": {
     "slide_type": "-"
    }
   },
   "outputs": [],
   "source": [
    "from hypothesis import given, strategies\n",
    "\n",
    "@given(strategies.integers(min_value=0))\n",
    "def test_positive(number):\n",
    "    \"\"\"Given a positive integer, test that the ID extraction works\"\"\"\n",
    "    assert get_car_id(f'c{number}') == number\n",
    "    print(f\"Test passed! I got {number}\")"
   ]
  },
  {
   "cell_type": "code",
   "execution_count": 3,
   "metadata": {
    "slideshow": {
     "slide_type": "slide"
    }
   },
   "outputs": [
    {
     "name": "stdout",
     "output_type": "stream",
     "text": [
      "Test passed! I got 0\n",
      "Test passed! I got 116486513116210298296575344157065290761\n",
      "Test passed! I got 80\n",
      "Test passed! I got 1182\n",
      "Test passed! I got 20352\n",
      "Test passed! I got 721642251241357077\n",
      "Test passed! I got 13\n",
      "Test passed! I got 32560\n",
      "Test passed! I got 87\n",
      "Test passed! I got 70\n",
      "Test passed! I got 24956\n",
      "Test passed! I got 22542\n",
      "Test passed! I got 29859\n",
      "Test passed! I got 81\n",
      "Test passed! I got 31190\n",
      "Test passed! I got 30216\n",
      "Test passed! I got 75\n",
      "Test passed! I got 0\n",
      "Test passed! I got 10184\n",
      "Test passed! I got 28\n",
      "Test passed! I got 24998\n",
      "Test passed! I got 19767\n",
      "Test passed! I got 65305921392770899569660660642985419658\n",
      "Test passed! I got 5192\n",
      "Test passed! I got 4549\n",
      "Test passed! I got 12577\n",
      "Test passed! I got 15366\n",
      "Test passed! I got 3623215957149009107\n",
      "Test passed! I got 211078709153004897\n",
      "Test passed! I got 127\n",
      "Test passed! I got 127\n",
      "Test passed! I got 9322\n",
      "Test passed! I got 9716\n",
      "Test passed! I got 1012762419733073422\n",
      "Test passed! I got 35333974759020656470478548907796137755\n",
      "Test passed! I got 6012\n",
      "Test passed! I got 118497328710740311184192577933525081604\n",
      "Test passed! I got 284\n",
      "Test passed! I got 32000\n",
      "Test passed! I got 2265\n",
      "Test passed! I got 17437\n",
      "Test passed! I got 10\n",
      "Test passed! I got 155\n",
      "Test passed! I got 27071\n",
      "Test passed! I got 2340\n",
      "Test passed! I got 7468170906111007498\n",
      "Test passed! I got 6715838675638420340\n",
      "Test passed! I got 98576501539595173758293873369563882278\n",
      "Test passed! I got 15268\n",
      "Test passed! I got 3068\n",
      "Test passed! I got 2147483647\n",
      "Test passed! I got 10\n",
      "Test passed! I got 19060\n",
      "Test passed! I got 12808\n",
      "Test passed! I got 106\n",
      "Test passed! I got 14222333358744536759147354779296682109\n",
      "Test passed! I got 22064\n",
      "Test passed! I got 32767\n",
      "Test passed! I got 7320\n",
      "Test passed! I got 7505835138500094760\n",
      "Test passed! I got 32767\n",
      "Test passed! I got 0\n",
      "Test passed! I got 1945591436\n",
      "Test passed! I got 28344\n",
      "Test passed! I got 45869751190566828951897622746345342681\n",
      "Test passed! I got 1916050381\n",
      "Test passed! I got 31616\n",
      "Test passed! I got 86\n",
      "Test passed! I got 4377\n",
      "Test passed! I got 12146\n",
      "Test passed! I got 11640\n",
      "Test passed! I got 2247\n",
      "Test passed! I got 27470\n",
      "Test passed! I got 1107172298\n",
      "Test passed! I got 13621\n",
      "Test passed! I got 539979462\n",
      "Test passed! I got 113\n",
      "Test passed! I got 23676\n",
      "Test passed! I got 11693\n",
      "Test passed! I got 0\n",
      "Test passed! I got 0\n",
      "Test passed! I got 20749\n",
      "Test passed! I got 32767\n",
      "Test passed! I got 57388109124094794165182945162247576242\n",
      "Test passed! I got 18477\n",
      "Test passed! I got 127\n",
      "Test passed! I got 1214475484414238220\n",
      "Test passed! I got 23566\n",
      "Test passed! I got 0\n",
      "Test passed! I got 2938872251429296794\n",
      "Test passed! I got 4623\n",
      "Test passed! I got 8540\n",
      "Test passed! I got 11160\n",
      "Test passed! I got 3848\n",
      "Test passed! I got 11934\n",
      "Test passed! I got 46\n",
      "Test passed! I got 1166969605\n",
      "Test passed! I got 10874\n",
      "Test passed! I got 66\n",
      "Test passed! I got 6487\n"
     ]
    }
   ],
   "source": [
    "test_positive()"
   ]
  },
  {
   "cell_type": "markdown",
   "metadata": {
    "slideshow": {
     "slide_type": "slide"
    }
   },
   "source": [
    "Hypothesis is best at testing very simple properties"
   ]
  },
  {
   "cell_type": "code",
   "execution_count": 4,
   "metadata": {
    "slideshow": {
     "slide_type": "-"
    }
   },
   "outputs": [],
   "source": [
    "@given(strategies.text())\n",
    "def test_always_works(text):\n",
    "    \"\"\"Given a string, test that the extraction never crashes\"\"\"\n",
    "    # Should fail on empty string because str_id[0] crashes\n",
    "    assert isinstance(get_car_id(text), int)"
   ]
  },
  {
   "cell_type": "code",
   "execution_count": 5,
   "metadata": {
    "slideshow": {
     "slide_type": "slide"
    }
   },
   "outputs": [
    {
     "name": "stdout",
     "output_type": "stream",
     "text": [
      "Falsifying example: test_always_works(text='')\n"
     ]
    },
    {
     "ename": "IndexError",
     "evalue": "string index out of range",
     "output_type": "error",
     "traceback": [
      "\u001b[0;31m---------------------------------------------------------------------------\u001b[0m",
      "\u001b[0;31mIndexError\u001b[0m                                Traceback (most recent call last)",
      "\u001b[0;32m<ipython-input-5-019b5459f0ed>\u001b[0m in \u001b[0;36m<module>\u001b[0;34m\u001b[0m\n\u001b[0;32m----> 1\u001b[0;31m \u001b[0mtest_always_works\u001b[0m\u001b[0;34m(\u001b[0m\u001b[0;34m)\u001b[0m\u001b[0;34m\u001b[0m\u001b[0;34m\u001b[0m\u001b[0m\n\u001b[0m",
      "\u001b[0;32m<ipython-input-4-280c1d2efb0e>\u001b[0m in \u001b[0;36mtest_always_works\u001b[0;34m()\u001b[0m\n\u001b[1;32m      1\u001b[0m \u001b[0;34m@\u001b[0m\u001b[0mgiven\u001b[0m\u001b[0;34m(\u001b[0m\u001b[0mstrategies\u001b[0m\u001b[0;34m.\u001b[0m\u001b[0mtext\u001b[0m\u001b[0;34m(\u001b[0m\u001b[0;34m)\u001b[0m\u001b[0;34m)\u001b[0m\u001b[0;34m\u001b[0m\u001b[0;34m\u001b[0m\u001b[0m\n\u001b[0;32m----> 2\u001b[0;31m \u001b[0;32mdef\u001b[0m \u001b[0mtest_always_works\u001b[0m\u001b[0;34m(\u001b[0m\u001b[0mtext\u001b[0m\u001b[0;34m)\u001b[0m\u001b[0;34m:\u001b[0m\u001b[0;34m\u001b[0m\u001b[0;34m\u001b[0m\u001b[0m\n\u001b[0m\u001b[1;32m      3\u001b[0m     \u001b[0;34m\"\"\"Given a string, test that the extraction never crashes\"\"\"\u001b[0m\u001b[0;34m\u001b[0m\u001b[0;34m\u001b[0m\u001b[0m\n\u001b[1;32m      4\u001b[0m     \u001b[0;31m# Should fail on empty string because str_id[0] crashes\u001b[0m\u001b[0;34m\u001b[0m\u001b[0;34m\u001b[0m\u001b[0;34m\u001b[0m\u001b[0m\n\u001b[1;32m      5\u001b[0m     \u001b[0;32massert\u001b[0m \u001b[0misinstance\u001b[0m\u001b[0;34m(\u001b[0m\u001b[0mget_car_id\u001b[0m\u001b[0;34m(\u001b[0m\u001b[0mtext\u001b[0m\u001b[0;34m)\u001b[0m\u001b[0;34m,\u001b[0m \u001b[0mint\u001b[0m\u001b[0;34m)\u001b[0m\u001b[0;34m\u001b[0m\u001b[0;34m\u001b[0m\u001b[0m\n",
      "\u001b[0;32m~/.pyenv/versions/3.7.1/lib/python3.7/site-packages/hypothesis/core.py\u001b[0m in \u001b[0;36mwrapped_test\u001b[0;34m(*arguments, **kwargs)\u001b[0m\n\u001b[1;32m   1051\u001b[0m                         \u001b[0mget_trimmed_traceback\u001b[0m\u001b[0;34m(\u001b[0m\u001b[0;34m)\u001b[0m\u001b[0;34m\u001b[0m\u001b[0;34m\u001b[0m\u001b[0m\n\u001b[1;32m   1052\u001b[0m                     )\n\u001b[0;32m-> 1053\u001b[0;31m                     \u001b[0;32mraise\u001b[0m \u001b[0mthe_error_hypothesis_found\u001b[0m\u001b[0;34m\u001b[0m\u001b[0;34m\u001b[0m\u001b[0m\n\u001b[0m\u001b[1;32m   1054\u001b[0m \u001b[0;34m\u001b[0m\u001b[0m\n\u001b[1;32m   1055\u001b[0m         \u001b[0;32mfor\u001b[0m \u001b[0mattrib\u001b[0m \u001b[0;32min\u001b[0m \u001b[0mdir\u001b[0m\u001b[0;34m(\u001b[0m\u001b[0mtest\u001b[0m\u001b[0;34m)\u001b[0m\u001b[0;34m:\u001b[0m\u001b[0;34m\u001b[0m\u001b[0;34m\u001b[0m\u001b[0m\n",
      "\u001b[0;32m<ipython-input-4-280c1d2efb0e>\u001b[0m in \u001b[0;36mtest_always_works\u001b[0;34m(text)\u001b[0m\n\u001b[1;32m      3\u001b[0m     \u001b[0;34m\"\"\"Given a string, test that the extraction never crashes\"\"\"\u001b[0m\u001b[0;34m\u001b[0m\u001b[0;34m\u001b[0m\u001b[0m\n\u001b[1;32m      4\u001b[0m     \u001b[0;31m# Should fail on empty string because str_id[0] crashes\u001b[0m\u001b[0;34m\u001b[0m\u001b[0;34m\u001b[0m\u001b[0;34m\u001b[0m\u001b[0m\n\u001b[0;32m----> 5\u001b[0;31m     \u001b[0;32massert\u001b[0m \u001b[0misinstance\u001b[0m\u001b[0;34m(\u001b[0m\u001b[0mget_car_id\u001b[0m\u001b[0;34m(\u001b[0m\u001b[0mtext\u001b[0m\u001b[0;34m)\u001b[0m\u001b[0;34m,\u001b[0m \u001b[0mint\u001b[0m\u001b[0;34m)\u001b[0m\u001b[0;34m\u001b[0m\u001b[0;34m\u001b[0m\u001b[0m\n\u001b[0m",
      "\u001b[0;32m<ipython-input-1-14c809b625c9>\u001b[0m in \u001b[0;36mget_car_id\u001b[0;34m(str_id)\u001b[0m\n\u001b[1;32m      1\u001b[0m \u001b[0;32mdef\u001b[0m \u001b[0mget_car_id\u001b[0m\u001b[0;34m(\u001b[0m\u001b[0mstr_id\u001b[0m\u001b[0;34m:\u001b[0m \u001b[0mstr\u001b[0m\u001b[0;34m)\u001b[0m \u001b[0;34m->\u001b[0m \u001b[0mint\u001b[0m\u001b[0;34m:\u001b[0m\u001b[0;34m\u001b[0m\u001b[0;34m\u001b[0m\u001b[0m\n\u001b[0;32m----> 2\u001b[0;31m     \u001b[0;32mif\u001b[0m \u001b[0mstr_id\u001b[0m\u001b[0;34m[\u001b[0m\u001b[0;36m0\u001b[0m\u001b[0;34m]\u001b[0m \u001b[0;34m!=\u001b[0m \u001b[0;34m'c'\u001b[0m \u001b[0;32mor\u001b[0m \u001b[0;32mnot\u001b[0m \u001b[0mstr_id\u001b[0m\u001b[0;34m[\u001b[0m\u001b[0;36m1\u001b[0m\u001b[0;34m:\u001b[0m\u001b[0;34m]\u001b[0m\u001b[0;34m.\u001b[0m\u001b[0misdigit\u001b[0m\u001b[0;34m(\u001b[0m\u001b[0;34m)\u001b[0m\u001b[0;34m:\u001b[0m\u001b[0;34m\u001b[0m\u001b[0;34m\u001b[0m\u001b[0m\n\u001b[0m\u001b[1;32m      3\u001b[0m         \u001b[0;32mreturn\u001b[0m \u001b[0;34m-\u001b[0m\u001b[0;36m1\u001b[0m\u001b[0;34m\u001b[0m\u001b[0;34m\u001b[0m\u001b[0m\n\u001b[1;32m      4\u001b[0m     \u001b[0;32mreturn\u001b[0m \u001b[0mint\u001b[0m\u001b[0;34m(\u001b[0m\u001b[0mstr_id\u001b[0m\u001b[0;34m[\u001b[0m\u001b[0;36m1\u001b[0m\u001b[0;34m:\u001b[0m\u001b[0;34m]\u001b[0m\u001b[0;34m)\u001b[0m\u001b[0;34m\u001b[0m\u001b[0;34m\u001b[0m\u001b[0m\n\u001b[1;32m      5\u001b[0m \u001b[0;34m\u001b[0m\u001b[0m\n",
      "\u001b[0;31mIndexError\u001b[0m: string index out of range"
     ]
    }
   ],
   "source": [
    "test_always_works()"
   ]
  },
  {
   "cell_type": "markdown",
   "metadata": {
    "slideshow": {
     "slide_type": "slide"
    }
   },
   "source": [
    "More features:\n",
    "* `settings`, to force a higher number of tests\n",
    "* `assume`, to ignore valid inputs"
   ]
  },
  {
   "cell_type": "code",
   "execution_count": 15,
   "metadata": {
    "slideshow": {
     "slide_type": "-"
    }
   },
   "outputs": [],
   "source": [
    "import re\n",
    "from hypothesis import assume, settings\n",
    "\n",
    "RE_NUMBER = re.compile(r'^\\d+$')\n",
    "\n",
    "@given(strategies.text())\n",
    "@settings(max_examples=100000)\n",
    "def test_not_a_number(text):\n",
    "    \"\"\"Test that an invalid string always results in -1\"\"\"\n",
    "    # Should fail because str.isdigit matches formatted numbers\n",
    "    assume(RE_NUMBER.match(text) is None)\n",
    "    assert get_car_id(f'c{text}') == -1"
   ]
  },
  {
   "cell_type": "code",
   "execution_count": 16,
   "metadata": {
    "slideshow": {
     "slide_type": "slide"
    }
   },
   "outputs": [
    {
     "name": "stdout",
     "output_type": "stream",
     "text": [
      "Falsifying example: test_not_a_number(text='²')\n"
     ]
    },
    {
     "ename": "ValueError",
     "evalue": "invalid literal for int() with base 10: '²'",
     "output_type": "error",
     "traceback": [
      "\u001b[0;31m---------------------------------------------------------------------------\u001b[0m",
      "\u001b[0;31mValueError\u001b[0m                                Traceback (most recent call last)",
      "\u001b[0;32m<ipython-input-16-ddcc6f4d5e4c>\u001b[0m in \u001b[0;36m<module>\u001b[0;34m\u001b[0m\n\u001b[0;32m----> 1\u001b[0;31m \u001b[0mtest_not_a_number\u001b[0m\u001b[0;34m(\u001b[0m\u001b[0;34m)\u001b[0m\u001b[0;34m\u001b[0m\u001b[0;34m\u001b[0m\u001b[0m\n\u001b[0m",
      "\u001b[0;32m<ipython-input-15-bb86de19ce1f>\u001b[0m in \u001b[0;36mtest_not_a_number\u001b[0;34m()\u001b[0m\n\u001b[1;32m      5\u001b[0m \u001b[0;34m\u001b[0m\u001b[0m\n\u001b[1;32m      6\u001b[0m \u001b[0;34m@\u001b[0m\u001b[0mgiven\u001b[0m\u001b[0;34m(\u001b[0m\u001b[0mstrategies\u001b[0m\u001b[0;34m.\u001b[0m\u001b[0mtext\u001b[0m\u001b[0;34m(\u001b[0m\u001b[0;34m)\u001b[0m\u001b[0;34m)\u001b[0m\u001b[0;34m\u001b[0m\u001b[0;34m\u001b[0m\u001b[0m\n\u001b[0;32m----> 7\u001b[0;31m \u001b[0;34m@\u001b[0m\u001b[0msettings\u001b[0m\u001b[0;34m(\u001b[0m\u001b[0mmax_examples\u001b[0m\u001b[0;34m=\u001b[0m\u001b[0;36m100000\u001b[0m\u001b[0;34m)\u001b[0m\u001b[0;34m\u001b[0m\u001b[0;34m\u001b[0m\u001b[0m\n\u001b[0m\u001b[1;32m      8\u001b[0m \u001b[0;32mdef\u001b[0m \u001b[0mtest_not_a_number\u001b[0m\u001b[0;34m(\u001b[0m\u001b[0mtext\u001b[0m\u001b[0;34m)\u001b[0m\u001b[0;34m:\u001b[0m\u001b[0;34m\u001b[0m\u001b[0;34m\u001b[0m\u001b[0m\n\u001b[1;32m      9\u001b[0m     \u001b[0;34m\"\"\"Test that an invalid string always results in -1\"\"\"\u001b[0m\u001b[0;34m\u001b[0m\u001b[0;34m\u001b[0m\u001b[0m\n",
      "\u001b[0;32m~/.pyenv/versions/3.7.1/lib/python3.7/site-packages/hypothesis/core.py\u001b[0m in \u001b[0;36mwrapped_test\u001b[0;34m(*arguments, **kwargs)\u001b[0m\n\u001b[1;32m   1051\u001b[0m                         \u001b[0mget_trimmed_traceback\u001b[0m\u001b[0;34m(\u001b[0m\u001b[0;34m)\u001b[0m\u001b[0;34m\u001b[0m\u001b[0;34m\u001b[0m\u001b[0m\n\u001b[1;32m   1052\u001b[0m                     )\n\u001b[0;32m-> 1053\u001b[0;31m                     \u001b[0;32mraise\u001b[0m \u001b[0mthe_error_hypothesis_found\u001b[0m\u001b[0;34m\u001b[0m\u001b[0;34m\u001b[0m\u001b[0m\n\u001b[0m\u001b[1;32m   1054\u001b[0m \u001b[0;34m\u001b[0m\u001b[0m\n\u001b[1;32m   1055\u001b[0m         \u001b[0;32mfor\u001b[0m \u001b[0mattrib\u001b[0m \u001b[0;32min\u001b[0m \u001b[0mdir\u001b[0m\u001b[0;34m(\u001b[0m\u001b[0mtest\u001b[0m\u001b[0;34m)\u001b[0m\u001b[0;34m:\u001b[0m\u001b[0;34m\u001b[0m\u001b[0;34m\u001b[0m\u001b[0m\n",
      "\u001b[0;32m<ipython-input-15-bb86de19ce1f>\u001b[0m in \u001b[0;36mtest_not_a_number\u001b[0;34m(text)\u001b[0m\n\u001b[1;32m     10\u001b[0m     \u001b[0;31m# Should fail because str.isdigit matches formatted numbers\u001b[0m\u001b[0;34m\u001b[0m\u001b[0;34m\u001b[0m\u001b[0;34m\u001b[0m\u001b[0m\n\u001b[1;32m     11\u001b[0m     \u001b[0massume\u001b[0m\u001b[0;34m(\u001b[0m\u001b[0mRE_NUMBER\u001b[0m\u001b[0;34m.\u001b[0m\u001b[0mmatch\u001b[0m\u001b[0;34m(\u001b[0m\u001b[0mtext\u001b[0m\u001b[0;34m)\u001b[0m \u001b[0;32mis\u001b[0m \u001b[0;32mNone\u001b[0m\u001b[0;34m)\u001b[0m\u001b[0;34m\u001b[0m\u001b[0;34m\u001b[0m\u001b[0m\n\u001b[0;32m---> 12\u001b[0;31m     \u001b[0;32massert\u001b[0m \u001b[0mget_car_id\u001b[0m\u001b[0;34m(\u001b[0m\u001b[0;34mf'c{text}'\u001b[0m\u001b[0;34m)\u001b[0m \u001b[0;34m==\u001b[0m \u001b[0;34m-\u001b[0m\u001b[0;36m1\u001b[0m\u001b[0;34m\u001b[0m\u001b[0;34m\u001b[0m\u001b[0m\n\u001b[0m",
      "\u001b[0;32m<ipython-input-2-14c809b625c9>\u001b[0m in \u001b[0;36mget_car_id\u001b[0;34m(str_id)\u001b[0m\n\u001b[1;32m      2\u001b[0m     \u001b[0;32mif\u001b[0m \u001b[0mstr_id\u001b[0m\u001b[0;34m[\u001b[0m\u001b[0;36m0\u001b[0m\u001b[0;34m]\u001b[0m \u001b[0;34m!=\u001b[0m \u001b[0;34m'c'\u001b[0m \u001b[0;32mor\u001b[0m \u001b[0;32mnot\u001b[0m \u001b[0mstr_id\u001b[0m\u001b[0;34m[\u001b[0m\u001b[0;36m1\u001b[0m\u001b[0;34m:\u001b[0m\u001b[0;34m]\u001b[0m\u001b[0;34m.\u001b[0m\u001b[0misdigit\u001b[0m\u001b[0;34m(\u001b[0m\u001b[0;34m)\u001b[0m\u001b[0;34m:\u001b[0m\u001b[0;34m\u001b[0m\u001b[0;34m\u001b[0m\u001b[0m\n\u001b[1;32m      3\u001b[0m         \u001b[0;32mreturn\u001b[0m \u001b[0;34m-\u001b[0m\u001b[0;36m1\u001b[0m\u001b[0;34m\u001b[0m\u001b[0;34m\u001b[0m\u001b[0m\n\u001b[0;32m----> 4\u001b[0;31m     \u001b[0;32mreturn\u001b[0m \u001b[0mint\u001b[0m\u001b[0;34m(\u001b[0m\u001b[0mstr_id\u001b[0m\u001b[0;34m[\u001b[0m\u001b[0;36m1\u001b[0m\u001b[0;34m:\u001b[0m\u001b[0;34m]\u001b[0m\u001b[0;34m)\u001b[0m\u001b[0;34m\u001b[0m\u001b[0;34m\u001b[0m\u001b[0m\n\u001b[0m\u001b[1;32m      5\u001b[0m \u001b[0;34m\u001b[0m\u001b[0m\n\u001b[1;32m      6\u001b[0m \u001b[0;32mdef\u001b[0m \u001b[0mtest_thing\u001b[0m\u001b[0;34m(\u001b[0m\u001b[0;34m)\u001b[0m\u001b[0;34m:\u001b[0m\u001b[0;34m\u001b[0m\u001b[0;34m\u001b[0m\u001b[0m\n",
      "\u001b[0;31mValueError\u001b[0m: invalid literal for int() with base 10: '²'"
     ]
    }
   ],
   "source": [
    "test_not_a_number()"
   ]
  },
  {
   "cell_type": "markdown",
   "metadata": {
    "slideshow": {
     "slide_type": "slide"
    }
   },
   "source": [
    "`hypothesis` is good at:\n",
    "\n",
    "* Finding the edge cases you forgot\n",
    "* Testing stuff that _must_ be reliable\n",
    "* Testing bidirectional functions (e.g. parsers, serializers)\n",
    "* Fuzzy testing"
   ]
  },
  {
   "cell_type": "markdown",
   "metadata": {
    "slideshow": {
     "slide_type": "-"
    }
   },
   "source": [
    "However:\n",
    "\n",
    "* It's not fast\n",
    "* It's bad at generating \"real\" data (use `faker`)\n",
    "* It should NOT replace sanity/smoke tests"
   ]
  },
  {
   "cell_type": "markdown",
   "metadata": {
    "slideshow": {
     "slide_type": "slide"
    }
   },
   "source": [
    "Other features:\n",
    "* Automatically reduces failing inputs to find the simplest one\n",
    "* Can compose strategies together to build complex objects/inputs\n",
    "* Can build recursive data structures\n",
    "* Can override `random` to make a test deterministic\n",
    "* Easily keep track of previous failing inputs and add them to the tests\n",
    "\n",
    "https://hypothesis.readthedocs.io/en/latest/manifesto.html"
   ]
  },
  {
   "cell_type": "markdown",
   "metadata": {
    "slideshow": {
     "slide_type": "slide"
    }
   },
   "source": [
    "## Thank you!"
   ]
  }
 ],
 "metadata": {
  "celltoolbar": "Slideshow",
  "kernelspec": {
   "display_name": "Python 3",
   "language": "python",
   "name": "python3"
  },
  "language_info": {
   "codemirror_mode": {
    "name": "ipython",
    "version": 3
   },
   "file_extension": ".py",
   "mimetype": "text/x-python",
   "name": "python",
   "nbconvert_exporter": "python",
   "pygments_lexer": "ipython3",
   "version": "3.7.1"
  }
 },
 "nbformat": 4,
 "nbformat_minor": 2
}
