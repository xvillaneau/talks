{
 "cells": [
  {
   "cell_type": "markdown",
   "metadata": {
    "slideshow": {
     "slide_type": "slide"
    }
   },
   "source": [
    "# Ruthless Testing with Hypothesis\n",
    "\n",
    "Xavier Villaneau — PyTennessee 2020"
   ]
  },
  {
   "cell_type": "markdown",
   "metadata": {
    "slideshow": {
     "slide_type": "slide"
    }
   },
   "source": [
    "## Who am I?\n",
    "\n",
    "Just call me Xavier.\n",
    "\n",
    "Pronouns: He / Him / His\n",
    "\n",
    "Software Engineer at Pandora + Sirius XM in Atlanta GA"
   ]
  },
  {
   "cell_type": "markdown",
   "metadata": {
    "slideshow": {
     "slide_type": "slide"
    }
   },
   "source": [
    "## 1. A Short Example"
   ]
  },
  {
   "cell_type": "code",
   "execution_count": 1,
   "metadata": {
    "slideshow": {
     "slide_type": "skip"
    }
   },
   "outputs": [],
   "source": [
    "import contextlib\n",
    "from typing import Optional\n",
    "\n",
    "from hypothesis import settings, Verbosity\n",
    "settings.register_profile('demo', verbosity=Verbosity.verbose, max_examples=5)\n",
    "settings.register_profile('try_a_lot', max_examples=10_000)"
   ]
  },
  {
   "cell_type": "markdown",
   "metadata": {
    "slideshow": {
     "slide_type": "slide"
    }
   },
   "source": [
    "### Hello, I'm “The Function\""
   ]
  },
  {
   "cell_type": "code",
   "execution_count": 2,
   "metadata": {},
   "outputs": [],
   "source": [
    "def extract_id(str_id: str) -> Optional[int]:\n",
    "    if str_id[:2] == \"u/\" and str_id[2:].isdecimal():\n",
    "        return int(str_id[2:])\n",
    "    return None"
   ]
  },
  {
   "cell_type": "markdown",
   "metadata": {
    "slideshow": {
     "slide_type": "subslide"
    }
   },
   "source": [
    "Let's try it out:"
   ]
  },
  {
   "cell_type": "code",
   "execution_count": 3,
   "metadata": {
    "scrolled": true,
    "slideshow": {
     "slide_type": "-"
    }
   },
   "outputs": [
    {
     "data": {
      "text/plain": [
       "12345"
      ]
     },
     "execution_count": 3,
     "metadata": {},
     "output_type": "execute_result"
    }
   ],
   "source": [
    "extract_id('u/12345')"
   ]
  },
  {
   "cell_type": "code",
   "execution_count": 4,
   "metadata": {
    "slideshow": {
     "slide_type": "-"
    }
   },
   "outputs": [],
   "source": [
    "extract_id('csx8888')"
   ]
  },
  {
   "cell_type": "markdown",
   "metadata": {
    "slideshow": {
     "slide_type": "slide"
    }
   },
   "source": [
    "### Hello Function, I'm Hypothesis"
   ]
  },
  {
   "cell_type": "code",
   "execution_count": 5,
   "metadata": {
    "slideshow": {
     "slide_type": "skip"
    }
   },
   "outputs": [],
   "source": [
    "settings.load_profile('demo')"
   ]
  },
  {
   "cell_type": "code",
   "execution_count": 6,
   "metadata": {},
   "outputs": [],
   "source": [
    "from hypothesis import given, strategies as st\n",
    "\n",
    "@given(st.integers(min_value=0))\n",
    "def test_int_always_decodes(number):\n",
    "    assert extract_id(f'u/{number}') == number"
   ]
  },
  {
   "cell_type": "code",
   "execution_count": 40,
   "metadata": {
    "slideshow": {
     "slide_type": "subslide"
    }
   },
   "outputs": [
    {
     "name": "stdout",
     "output_type": "stream",
     "text": [
      "Trying example: test_int_always_decodes(\n",
      "    number=0,\n",
      ")\n",
      "Trying example: test_int_always_decodes(\n",
      "    number=0,\n",
      ")\n",
      "Trying example: test_int_always_decodes(\n",
      "    number=0,\n",
      ")\n",
      "Trying example: test_int_always_decodes(\n",
      "    number=18221,\n",
      ")\n",
      "Trying example: test_int_always_decodes(\n",
      "    number=0,\n",
      ")\n"
     ]
    }
   ],
   "source": [
    "test_int_always_decodes()"
   ]
  },
  {
   "cell_type": "markdown",
   "metadata": {
    "slideshow": {
     "slide_type": "slide"
    }
   },
   "source": [
    "### A harder test"
   ]
  },
  {
   "cell_type": "code",
   "execution_count": 8,
   "metadata": {
    "slideshow": {
     "slide_type": "-"
    }
   },
   "outputs": [],
   "source": [
    "from hypothesis import assume, given, strategies as st\n",
    "\n",
    "@given(st.characters(), st.integers(min_value=0))\n",
    "def test_not_u_never_decodes(char, number):\n",
    "    assume(char != 'u')\n",
    "    assert extract_id(f'{char}/{number}') is None"
   ]
  },
  {
   "cell_type": "code",
   "execution_count": 51,
   "metadata": {
    "slideshow": {
     "slide_type": "subslide"
    }
   },
   "outputs": [
    {
     "name": "stdout",
     "output_type": "stream",
     "text": [
      "Trying example: test_not_u_never_decodes(\n",
      "    char='0', number=0,\n",
      ")\n",
      "Trying example: test_not_u_never_decodes(\n",
      "    char='0', number=0,\n",
      ")\n",
      "Trying example: test_not_u_never_decodes(\n",
      "    char='\\U000acb0f', number=64,\n",
      ")\n",
      "Trying example: test_not_u_never_decodes(\n",
      "    char='0', number=0,\n",
      ")\n",
      "Trying example: test_not_u_never_decodes(\n",
      "    char='0', number=0,\n",
      ")\n"
     ]
    }
   ],
   "source": [
    "test_not_u_never_decodes()"
   ]
  },
  {
   "cell_type": "markdown",
   "metadata": {
    "slideshow": {
     "slide_type": "slide"
    }
   },
   "source": [
    "### So far so good?"
   ]
  },
  {
   "cell_type": "code",
   "execution_count": 10,
   "metadata": {
    "slideshow": {
     "slide_type": "skip"
    }
   },
   "outputs": [],
   "source": [
    "settings.load_profile('try_a_lot')"
   ]
  },
  {
   "cell_type": "code",
   "execution_count": 57,
   "metadata": {},
   "outputs": [],
   "source": [
    "from hypothesis import assume, given, strategies as st\n",
    "\n",
    "@given(st.text(alphabet='0123456789', min_size=1))\n",
    "def test_matches_expected(text):\n",
    "    str_id = f'u/{text}'\n",
    "    assert f'u/{extract_id(str_id)}' == str_id"
   ]
  },
  {
   "cell_type": "code",
   "execution_count": 58,
   "metadata": {
    "slideshow": {
     "slide_type": "subslide"
    }
   },
   "outputs": [
    {
     "name": "stdout",
     "output_type": "stream",
     "text": [
      "Falsifying example: test_matches_expected(\n",
      "    text='00',\n",
      ")\n"
     ]
    }
   ],
   "source": [
    "with contextlib.suppress(Exception):\n",
    "    test_matches_expected()"
   ]
  },
  {
   "cell_type": "markdown",
   "metadata": {
    "slideshow": {
     "slide_type": "slide"
    }
   },
   "source": [
    "### Y'all got anymore of em' bugs?"
   ]
  },
  {
   "cell_type": "code",
   "execution_count": 13,
   "metadata": {
    "slideshow": {
     "slide_type": "-"
    }
   },
   "outputs": [],
   "source": [
    "import re\n",
    "from hypothesis import assume, given, strategies as st\n",
    "\n",
    "@given(st.text())\n",
    "def test_no_false_positives(text):\n",
    "    assume(re.fullmatch('[0-9]+', text) is None)\n",
    "    assert extract_id(f'u/{text}') is None"
   ]
  },
  {
   "cell_type": "code",
   "execution_count": 14,
   "metadata": {
    "slideshow": {
     "slide_type": "subslide"
    }
   },
   "outputs": [
    {
     "name": "stdout",
     "output_type": "stream",
     "text": [
      "Falsifying example: test_no_false_positives(\n",
      "    text='၀',\n",
      ")\n"
     ]
    }
   ],
   "source": [
    "with contextlib.suppress(Exception):\n",
    "    test_no_false_positives()"
   ]
  },
  {
   "cell_type": "markdown",
   "metadata": {
    "slideshow": {
     "slide_type": "subslide"
    }
   },
   "source": [
    "### wut."
   ]
  },
  {
   "cell_type": "code",
   "execution_count": 15,
   "metadata": {},
   "outputs": [
    {
     "data": {
      "text/plain": [
       "71212"
      ]
     },
     "execution_count": 15,
     "metadata": {},
     "output_type": "execute_result"
    }
   ],
   "source": [
    "int('७೧୨௧໒')"
   ]
  },
  {
   "cell_type": "markdown",
   "metadata": {
    "slideshow": {
     "slide_type": "fragment"
    }
   },
   "source": [
    "𝕿𝖍𝖔𝖚 𝖍𝖆𝖘𝖙 𝖜𝖆𝖐𝖊𝖙𝖍 𝖙𝖍𝖊 𝖜𝖗𝖆𝖙𝖍 𝖔𝖋 𝖀𝖓𝖎𝖈𝖔𝖉𝖊"
   ]
  },
  {
   "cell_type": "markdown",
   "metadata": {
    "slideshow": {
     "slide_type": "slide"
    }
   },
   "source": [
    "## 2. The Hypothesis Manual, Abridged"
   ]
  },
  {
   "cell_type": "code",
   "execution_count": 16,
   "metadata": {
    "slideshow": {
     "slide_type": "skip"
    }
   },
   "outputs": [],
   "source": [
    "settings.load_profile('default')"
   ]
  },
  {
   "cell_type": "markdown",
   "metadata": {
    "slideshow": {
     "slide_type": "slide"
    }
   },
   "source": [
    "### The basics\n",
    "\n",
    "* `@given()` → Decorate a test to run Hypothesis\n",
    "* `strategies` → Data generators module"
   ]
  },
  {
   "cell_type": "markdown",
   "metadata": {
    "slideshow": {
     "slide_type": "fragment"
    }
   },
   "source": [
    "```python\n",
    "@given(strategy)\n",
    "def test_function(arguments):\n",
    "    assert test_condition(arguments)\n",
    "```"
   ]
  },
  {
   "cell_type": "markdown",
   "metadata": {
    "slideshow": {
     "slide_type": "slide"
    }
   },
   "source": [
    "### Skipping tests\n",
    "\n",
    "* `assume(condition)` → Ignore test if `condition` is false\n",
    "* Can also use `Strategy.filter()`"
   ]
  },
  {
   "cell_type": "markdown",
   "metadata": {
    "slideshow": {
     "slide_type": "fragment"
    }
   },
   "source": [
    "**Warning:**  \n",
    "Hypothesis gives up after too many failed attempts."
   ]
  },
  {
   "cell_type": "markdown",
   "metadata": {
    "slideshow": {
     "slide_type": "slide"
    }
   },
   "source": [
    "### Forcing a test input\n",
    "\n",
    "* `@example(*arguments)` → Forces a specific test input\n",
    "\n",
    "This is _in addition to_ the randomly generated examples.\n",
    "\n",
    "Useful for forcing known corner cases to be tested."
   ]
  },
  {
   "cell_type": "code",
   "execution_count": 17,
   "metadata": {
    "slideshow": {
     "slide_type": "skip"
    }
   },
   "outputs": [],
   "source": [
    "settings.load_profile('demo')"
   ]
  },
  {
   "cell_type": "code",
   "execution_count": 18,
   "metadata": {
    "scrolled": true,
    "slideshow": {
     "slide_type": "subslide"
    }
   },
   "outputs": [],
   "source": [
    "from hypothesis import example\n",
    "\n",
    "@given(st.integers(), st.integers())\n",
    "@example(71, 212)\n",
    "def test_addition_commutative(x, y):\n",
    "    assert x + y == y + x"
   ]
  },
  {
   "cell_type": "code",
   "execution_count": 63,
   "metadata": {
    "scrolled": true,
    "slideshow": {
     "slide_type": "subslide"
    }
   },
   "outputs": [
    {
     "name": "stdout",
     "output_type": "stream",
     "text": [
      "Trying example: test_addition_commutative(\n",
      "    x=71, y=212,\n",
      ")\n",
      "Trying example: test_addition_commutative(\n",
      "    x=0, y=0,\n",
      ")\n",
      "Trying example: test_addition_commutative(\n",
      "    x=0, y=0,\n",
      ")\n",
      "Trying example: test_addition_commutative(\n",
      "    x=36, y=32,\n",
      ")\n",
      "Trying example: test_addition_commutative(\n",
      "    x=0, y=0,\n",
      ")\n",
      "Trying example: test_addition_commutative(\n",
      "    x=-126, y=-28799,\n",
      ")\n"
     ]
    }
   ],
   "source": [
    "test_addition_commutative()"
   ]
  },
  {
   "cell_type": "code",
   "execution_count": 20,
   "metadata": {
    "slideshow": {
     "slide_type": "skip"
    }
   },
   "outputs": [],
   "source": [
    "settings.load_profile('default')"
   ]
  },
  {
   "cell_type": "markdown",
   "metadata": {
    "slideshow": {
     "slide_type": "slide"
    }
   },
   "source": [
    "### The Magic of Failure"
   ]
  },
  {
   "cell_type": "markdown",
   "metadata": {
    "slideshow": {
     "slide_type": "-"
    }
   },
   "source": [
    "When an input fails, Hypothesis **shrinks** it to the simplest case.\n",
    "\n",
    "Failing input is rememberred in the **database** and tried again.\n",
    "\n",
    "Every test in Hypothesis is **repeatable**."
   ]
  },
  {
   "cell_type": "markdown",
   "metadata": {
    "slideshow": {
     "slide_type": "slide"
    }
   },
   "source": [
    "### What to test?\n",
    "\n",
    "Look for *invariant* properties."
   ]
  },
  {
   "cell_type": "markdown",
   "metadata": {
    "slideshow": {
     "slide_type": "fragment"
    }
   },
   "source": [
    "1. Does the function *crash* when it shouldn't? (e.g. validators)\n",
    "\n",
    "```python\n",
    "@given(strategy())\n",
    "def test_wont_crash(data):\n",
    "    this_must_not_crash(data)\n",
    "```"
   ]
  },
  {
   "cell_type": "markdown",
   "metadata": {
    "slideshow": {
     "slide_type": "subslide"
    }
   },
   "source": [
    "2. Does the inverse function return the same input?  \n",
    "   (e.g. parsers, serializers)\n",
    "\n",
    "```python\n",
    "@given(strategy())\n",
    "def test_codec(data):\n",
    "    assert decode(encode(data)) == data\n",
    "```"
   ]
  },
  {
   "cell_type": "markdown",
   "metadata": {
    "slideshow": {
     "slide_type": "subslide"
    }
   },
   "source": [
    "3. Is the function *idempotent*?\n",
    "\n",
    "```python\n",
    "@given(strategy())\n",
    "def test_idempotence(data):\n",
    "    result = process(data)\n",
    "    assert process(result) == result\n",
    "```"
   ]
  },
  {
   "cell_type": "markdown",
   "metadata": {
    "slideshow": {
     "slide_type": "subslide"
    }
   },
   "source": [
    "4. Does the function match a known other function?  \n",
    "   (optimization, refactor)\n",
    "\n",
    "```python\n",
    "@given(strategy())\n",
    "def test_refactored(data):\n",
    "    assert new_thing(data) == old_thing(data)\n",
    "```"
   ]
  },
  {
   "cell_type": "markdown",
   "metadata": {
    "slideshow": {
     "slide_type": "slide"
    }
   },
   "source": [
    "## 3. Strategic Overview"
   ]
  },
  {
   "cell_type": "markdown",
   "metadata": {
    "slideshow": {
     "slide_type": "slide"
    }
   },
   "source": [
    "### Primitive Types"
   ]
  },
  {
   "cell_type": "code",
   "execution_count": 21,
   "metadata": {
    "slideshow": {
     "slide_type": "skip"
    }
   },
   "outputs": [],
   "source": [
    "from hypothesis import strategies\n",
    "\n",
    "def gimme_examples(strategy, n=5):\n",
    "    for _ in range(n):\n",
    "        print(strategy.example())"
   ]
  },
  {
   "cell_type": "code",
   "execution_count": 87,
   "metadata": {},
   "outputs": [
    {
     "name": "stdout",
     "output_type": "stream",
     "text": [
      "0.0\n",
      "3.122979806705833e+221\n",
      "0.0\n",
      "1.502540591884679e-52\n",
      "-1.7976931348623157e+308\n"
     ]
    }
   ],
   "source": [
    "gimme_examples(strategies.floats())"
   ]
  },
  {
   "cell_type": "code",
   "execution_count": 108,
   "metadata": {
    "slideshow": {
     "slide_type": "fragment"
    }
   },
   "outputs": [
    {
     "name": "stdout",
     "output_type": "stream",
     "text": [
      "'0'\n",
      "'\\U000f9aa0\\x1b'\n",
      "'\\x14\\x04$\\U000e6833%'\n",
      "'\\x07'\n",
      "'\\x18\\x15\\x04'\n"
     ]
    }
   ],
   "source": [
    "gimme_examples(strategies.text().map(repr))"
   ]
  },
  {
   "cell_type": "markdown",
   "metadata": {
    "slideshow": {
     "slide_type": "slide"
    }
   },
   "source": [
    "### Collections"
   ]
  },
  {
   "cell_type": "code",
   "execution_count": 118,
   "metadata": {
    "slideshow": {
     "slide_type": "-"
    }
   },
   "outputs": [
    {
     "name": "stdout",
     "output_type": "stream",
     "text": [
      "[]\n",
      "[-620538434, 9353]\n",
      "[0]\n",
      "[0]\n",
      "[2300576252139297195, 19644, -6465, 13404]\n"
     ]
    }
   ],
   "source": [
    "gimme_examples(strategies.lists(strategies.integers()))"
   ]
  },
  {
   "cell_type": "markdown",
   "metadata": {
    "slideshow": {
     "slide_type": "fragment"
    }
   },
   "source": [
    "Also: `sets`, `dictionaries`, `tuples`…"
   ]
  },
  {
   "cell_type": "markdown",
   "metadata": {
    "slideshow": {
     "slide_type": "slide"
    }
   },
   "source": [
    "### Building objects"
   ]
  },
  {
   "cell_type": "code",
   "execution_count": 25,
   "metadata": {
    "slideshow": {
     "slide_type": "skip"
    }
   },
   "outputs": [],
   "source": [
    "from decimal import Decimal\n",
    "from dataclasses import dataclass\n",
    "from string import ascii_letters"
   ]
  },
  {
   "cell_type": "code",
   "execution_count": 26,
   "metadata": {},
   "outputs": [],
   "source": [
    "@dataclass\n",
    "class Customer:\n",
    "    username: str\n",
    "    customer_id: int\n",
    "    account_balance: Decimal"
   ]
  },
  {
   "cell_type": "code",
   "execution_count": 125,
   "metadata": {
    "scrolled": true,
    "slideshow": {
     "slide_type": "fragment"
    }
   },
   "outputs": [
    {
     "name": "stdout",
     "output_type": "stream",
     "text": [
      "Customer(username='', customer_id=0, account_balance=Decimal('NaN'))\n",
      "Customer(username='&', customer_id=91, account_balance=Decimal('-0.6648167181'))\n",
      "Customer(username='', customer_id=0, account_balance=Decimal('-sNaN'))\n",
      "Customer(username='\\x18\\U0009a011\\n\\U000b784b\\t\\U000895d9\\U000ad29f\\n\\U000ac5e6\\x04\\U0003ff13(', customer_id=14677, account_balance=Decimal('-0.0194458148'))\n",
      "Customer(username='', customer_id=0, account_balance=Decimal('NaN'))\n"
     ]
    }
   ],
   "source": [
    "gimme_examples(strategies.builds(Customer))"
   ]
  },
  {
   "cell_type": "markdown",
   "metadata": {
    "slideshow": {
     "slide_type": "slide"
    }
   },
   "source": [
    "### Composite strategies"
   ]
  },
  {
   "cell_type": "code",
   "execution_count": 28,
   "metadata": {},
   "outputs": [],
   "source": [
    "@strategies.composite\n",
    "def char_ids(draw):\n",
    "    prefix = draw(strategies.sampled_from(ascii_letters))\n",
    "    number = draw(strategies.integers(min_value=0))\n",
    "    return f'{prefix}/{number}'"
   ]
  },
  {
   "cell_type": "code",
   "execution_count": 136,
   "metadata": {
    "scrolled": true,
    "slideshow": {
     "slide_type": "fragment"
    }
   },
   "outputs": [
    {
     "name": "stdout",
     "output_type": "stream",
     "text": [
      "a/0\n",
      "d/581\n",
      "g/0\n",
      "q/1280383754\n",
      "Y/1404234951146601292\n"
     ]
    }
   ],
   "source": [
    "gimme_examples(char_ids())"
   ]
  },
  {
   "cell_type": "markdown",
   "metadata": {
    "slideshow": {
     "slide_type": "slide"
    }
   },
   "source": [
    "### ...and much more!\n",
    "\n",
    "Dates and time, composition tools, recursive data structures, functional tools...\n",
    "\n",
    "https://hypothesis.readthedocs.io/en/latest/data.html"
   ]
  },
  {
   "cell_type": "markdown",
   "metadata": {
    "slideshow": {
     "slide_type": "slide"
    }
   },
   "source": [
    "## 4. The Bonus Features"
   ]
  },
  {
   "cell_type": "markdown",
   "metadata": {
    "slideshow": {
     "slide_type": "slide"
    }
   },
   "source": [
    "### Django support\n",
    "\n",
    "* Must use `hypothesis.extra.django.TestCase` instead of `django.test.TestCase`.\n",
    "* Automatic DB model creation strategy: `hypothesis.extra.django.from_model`."
   ]
  },
  {
   "cell_type": "markdown",
   "metadata": {
    "slideshow": {
     "slide_type": "subslide"
    }
   },
   "source": [
    "```python\n",
    "from hypothesis.extra.django import (\n",
    "    TestCase, from_model\n",
    ")\n",
    "\n",
    "class CustomerRecordsTest(TestCase):\n",
    "    @given(from_model(CustomerRecord))\n",
    "    def test_customer_record(record):\n",
    "        # Relevant test with DB usage\n",
    "```"
   ]
  },
  {
   "cell_type": "markdown",
   "metadata": {
    "slideshow": {
     "slide_type": "slide"
    }
   },
   "source": [
    "### Settings profiles"
   ]
  },
  {
   "cell_type": "markdown",
   "metadata": {},
   "source": [
    "```python\n",
    "from hypothesis import settings\n",
    "settings.register_profile(\n",
    "    'ci_tests', max_examples=10_000\n",
    ")\n",
    "settings.load_profile('ci_tests')\n",
    "```"
   ]
  },
  {
   "cell_type": "markdown",
   "metadata": {
    "slideshow": {
     "slide_type": "slide"
    }
   },
   "source": [
    "### pytest support\n",
    "\n",
    "With `pytest`, Hypothesis adds CLI options to:\n",
    "* Set the test seed\n",
    "* Set the verbosity\n",
    "* Set a test profile\n",
    "* Collect runtime statistics"
   ]
  },
  {
   "cell_type": "markdown",
   "metadata": {
    "slideshow": {
     "slide_type": "skip"
    }
   },
   "source": [
    "```\n",
    "test_extract_id.py::test_int_always_decodes:\n",
    "  - 100 passing examples, 0 failing examples, 0 invalid examples\n",
    "  - Typical runtimes: < 1ms\n",
    "  - Fraction of time spent in data generation: ~ 47%\n",
    "  - Stopped because settings.max_examples=100\n",
    "\n",
    "test_extract_id.py::test_not_c_never_decodes:\n",
    "  - 100 passing examples, 0 failing examples, 0 invalid examples\n",
    "  - Typical runtimes: < 1ms\n",
    "  - Fraction of time spent in data generation: ~ 63%\n",
    "  - Stopped because settings.max_examples=100\n",
    "\n",
    "test_extract_id.py::test_no_false_positives:\n",
    "  - 8 passing examples, 8 failing examples, 5 invalid examples\n",
    "  - Typical runtimes: < 1ms\n",
    "  - Fraction of time spent in data generation: ~ 35%\n",
    "  - Stopped because nothing left to do\n",
    "```"
   ]
  },
  {
   "cell_type": "markdown",
   "metadata": {
    "slideshow": {
     "slide_type": "slide"
    }
   },
   "source": [
    "### Stateful testing\n",
    "\n",
    "> With Hypothesis’s stateful testing, \\[it\\] tries to generate not just data but entire tests. You specify a number of primitive actions that can be combined together, and then **Hypothesis will try to find sequences of those actions that result in a failure**."
   ]
  },
  {
   "cell_type": "markdown",
   "metadata": {
    "slideshow": {
     "slide_type": "slide"
    }
   },
   "source": [
    "## Conclusion"
   ]
  },
  {
   "cell_type": "markdown",
   "metadata": {
    "slideshow": {
     "slide_type": "slide"
    }
   },
   "source": [
    "### Conclusion\n",
    "\n",
    "Hypothesis is good at:\n",
    "\n",
    "* Finding the edge case bugs you forgot\n",
    "* Testing mission-critical logic that **must** be reliable\n",
    "* Testing bidirectional functions (e.g. parsers, serializers)\n",
    "* Fuzzy testing"
   ]
  },
  {
   "cell_type": "markdown",
   "metadata": {
    "slideshow": {
     "slide_type": "subslide"
    }
   },
   "source": [
    "Cons:\n",
    "\n",
    "* Tests **must** be invariant\n",
    "* Tests should be fast\n",
    "* It's bad at generating \"real\" data (use `faker`)\n",
    "* It should not replace sanity/smoke tests"
   ]
  },
  {
   "cell_type": "markdown",
   "metadata": {
    "slideshow": {
     "slide_type": "slide"
    }
   },
   "source": [
    "### One last obsolete quote\n",
    "\n",
    ">  Most errors are of an obvious nature that can be easily spotted by visual inspection. […] Do not use the computer to detect this kind of thing – it is too expensive.\n",
    "\n",
    "Dr. Winston W. Royce, _Managing the Development of Large Software Systems_. IEEE WESCON Proceedings, August 1970."
   ]
  },
  {
   "cell_type": "markdown",
   "metadata": {
    "slideshow": {
     "slide_type": "slide"
    }
   },
   "source": [
    "# Thank you!\n",
    "\n",
    "Slides on:  \n",
    "https://github.com/xvillaneau/talks\n",
    "\n",
    "(This was v1.2.0 of the talk)\n",
    "\n",
    "## Questions?"
   ]
  },
  {
   "cell_type": "markdown",
   "metadata": {
    "slideshow": {
     "slide_type": "slide"
    }
   },
   "source": [
    "### Further reading\n",
    "\n",
    "David R. MacIver, The Purpose of Hypothesis  \n",
    "https://hypothesis.readthedocs.io/en/latest/manifesto.html\n",
    "\n",
    "Scott W., Choosing properties for property-based testing  \n",
    "https://fsharpforfunandprofit.com/posts/property-based-testing-2/\n",
    "\n",
    "Joe \"begriffs\" Nelson, The Design and Use of QuickCheck  \n",
    "https://begriffs.com/posts/2017-01-14-design-use-quickcheck.html"
   ]
  }
 ],
 "metadata": {
  "celltoolbar": "Slideshow",
  "kernelspec": {
   "display_name": "Python 3",
   "language": "python",
   "name": "python3"
  },
  "language_info": {
   "codemirror_mode": {
    "name": "ipython",
    "version": 3
   },
   "file_extension": ".py",
   "mimetype": "text/x-python",
   "name": "python",
   "nbconvert_exporter": "python",
   "pygments_lexer": "ipython3",
   "version": "3.8.2"
  }
 },
 "nbformat": 4,
 "nbformat_minor": 2
}
