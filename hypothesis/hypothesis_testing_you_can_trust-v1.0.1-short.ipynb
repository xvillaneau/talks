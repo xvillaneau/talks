{
 "cells": [
  {
   "cell_type": "markdown",
   "metadata": {
    "slideshow": {
     "slide_type": "slide"
    }
   },
   "source": [
    "# Hypothesis: Thorough Unit-Testing You Can Trust\n",
    "\n",
    "Xavier Villaneau"
   ]
  },
  {
   "cell_type": "markdown",
   "metadata": {
    "slideshow": {
     "slide_type": "slide"
    }
   },
   "source": [
    "## A Friendly Plug\n",
    "\n",
    "![PyTennessee 2019 logo](pytn_logo_black.png)"
   ]
  },
  {
   "cell_type": "markdown",
   "metadata": {
    "slideshow": {
     "slide_type": "fragment"
    }
   },
   "source": [
    "PyTennessee 2019 was AWESOME"
   ]
  },
  {
   "cell_type": "markdown",
   "metadata": {
    "slideshow": {
     "slide_type": "slide"
    }
   },
   "source": [
    "## Once upon a time at a Haskell workshop..."
   ]
  },
  {
   "cell_type": "markdown",
   "metadata": {
    "slideshow": {
     "slide_type": "-"
    }
   },
   "source": [
    "```haskell\n",
    "dispatch :: Command -> Connection -> IO String\n",
    "dispatch ListFeatures conn = printManyReply <$> listFeatures conn\n",
    "dispatch _ _ = return \"Not implemented\"\n",
    "\n",
    "main :: IO ()\n",
    "main = do\n",
    "  cmd <- cmdArgs cmdParser\n",
    "  conn <- checkedConnect defaultConnectInfo\n",
    "  Prelude.putStr =<< dispatch cmd conn\n",
    "\n",
    "```"
   ]
  },
  {
   "cell_type": "markdown",
   "metadata": {
    "slideshow": {
     "slide_type": "fragment"
    }
   },
   "source": [
    "“I must write unit tests for every line of my code, or my Honor as a programmer will be tarnished.” -- _Former me_"
   ]
  },
  {
   "cell_type": "markdown",
   "metadata": {
    "slideshow": {
     "slide_type": "slide"
    }
   },
   "source": [
    "## ...I met QuickCheck"
   ]
  },
  {
   "cell_type": "markdown",
   "metadata": {},
   "source": [
    "> “**QuickCheck** is a tool which aids the Haskell programmer in formulating and testing properties of programs. \\[...\\]   \n",
    "> We have designed a \\[language\\] which the tester uses to define expected properties of the functions under test. **QuickCheck** then checks that the properties hold in a large number of cases.”"
   ]
  },
  {
   "cell_type": "markdown",
   "metadata": {
    "slideshow": {
     "slide_type": "fragment"
    }
   },
   "source": [
    "K. Claessen and J. Hugues,  \n",
    "QuickCheck: A Lightweight Tool for Random Testing of Haskell Programs.  \n",
    "In *International Conference on Functional Programming*, September 2000."
   ]
  },
  {
   "cell_type": "markdown",
   "metadata": {
    "slideshow": {
     "slide_type": "slide"
    }
   },
   "source": [
    "## Hypothesis, Python's QuickCheck\n",
    "\n",
    "#### 1. Introducing Hypothesis With an Example\n",
    "#### 2. The Hypothesis Manual, Abridged\n",
    "#### 3. Strategic Overview\n",
    "#### 4. The Bonus Features"
   ]
  },
  {
   "cell_type": "markdown",
   "metadata": {
    "slideshow": {
     "slide_type": "slide"
    }
   },
   "source": [
    "## 1. Introducing Hypothesis With an Example"
   ]
  },
  {
   "cell_type": "markdown",
   "metadata": {
    "slideshow": {
     "slide_type": "slide"
    }
   },
   "source": [
    "### Hello, I'm “The Function”"
   ]
  },
  {
   "cell_type": "code",
   "execution_count": 1,
   "metadata": {},
   "outputs": [],
   "source": [
    "def extract_id(str_id: str) -> int:\n",
    "    if str_id[0] == 'c' and str_id[1:].isdigit():\n",
    "        return int(str_id[1:])\n",
    "    return -1"
   ]
  },
  {
   "cell_type": "markdown",
   "metadata": {
    "slideshow": {
     "slide_type": "fragment"
    }
   },
   "source": [
    "Let's try it out:"
   ]
  },
  {
   "cell_type": "code",
   "execution_count": 2,
   "metadata": {
    "scrolled": true,
    "slideshow": {
     "slide_type": "-"
    }
   },
   "outputs": [
    {
     "data": {
      "text/plain": [
       "12345"
      ]
     },
     "execution_count": 2,
     "metadata": {},
     "output_type": "execute_result"
    }
   ],
   "source": [
    "extract_id('c12345')"
   ]
  },
  {
   "cell_type": "code",
   "execution_count": 3,
   "metadata": {},
   "outputs": [
    {
     "data": {
      "text/plain": [
       "-1"
      ]
     },
     "execution_count": 3,
     "metadata": {},
     "output_type": "execute_result"
    }
   ],
   "source": [
    "extract_id('csx8888')"
   ]
  },
  {
   "cell_type": "markdown",
   "metadata": {
    "slideshow": {
     "slide_type": "slide"
    }
   },
   "source": [
    "### Hello Function, I'm Hypothesis"
   ]
  },
  {
   "cell_type": "code",
   "execution_count": 4,
   "metadata": {
    "slideshow": {
     "slide_type": "notes"
    }
   },
   "outputs": [],
   "source": [
    "from hypothesis import settings, Verbosity\n",
    "settings.register_profile('demo', verbosity=Verbosity.verbose, max_examples=10)\n",
    "settings.load_profile('demo')"
   ]
  },
  {
   "cell_type": "code",
   "execution_count": 5,
   "metadata": {},
   "outputs": [],
   "source": [
    "from hypothesis import given, strategies\n",
    "\n",
    "@given(strategies.integers(min_value=0))\n",
    "def test_int_always_decodes(number):\n",
    "    assert extract_id(f'c{number}') == number"
   ]
  },
  {
   "cell_type": "code",
   "execution_count": 32,
   "metadata": {
    "slideshow": {
     "slide_type": "slide"
    }
   },
   "outputs": [
    {
     "name": "stdout",
     "output_type": "stream",
     "text": [
      "Trying example: test_int_always_decodes(number=0)\n",
      "Trying example: test_int_always_decodes(number=29718)\n",
      "Trying example: test_int_always_decodes(number=6695635479773085624)\n",
      "Trying example: test_int_always_decodes(number=19)\n",
      "Trying example: test_int_always_decodes(number=18969)\n",
      "Trying example: test_int_always_decodes(number=52167998556186279088842865185018497561)\n",
      "Trying example: test_int_always_decodes(number=112667830879452319647840124170581575183)\n",
      "Trying example: test_int_always_decodes(number=23594)\n",
      "Trying example: test_int_always_decodes(number=24431)\n",
      "Trying example: test_int_always_decodes(number=86)\n"
     ]
    }
   ],
   "source": [
    "test_int_always_decodes()"
   ]
  },
  {
   "cell_type": "markdown",
   "metadata": {
    "slideshow": {
     "slide_type": "skip"
    }
   },
   "source": [
    "### A harder test"
   ]
  },
  {
   "cell_type": "code",
   "execution_count": 7,
   "metadata": {
    "slideshow": {
     "slide_type": "skip"
    }
   },
   "outputs": [],
   "source": [
    "from hypothesis import assume\n",
    "\n",
    "@given(strategies.characters(), strategies.integers(min_value=0))\n",
    "def test_not_c_never_decodes(char, number):\n",
    "    assume(char != 'c')\n",
    "    assert extract_id(f'{char}{number}') == -1"
   ]
  },
  {
   "cell_type": "code",
   "execution_count": 8,
   "metadata": {
    "slideshow": {
     "slide_type": "skip"
    }
   },
   "outputs": [
    {
     "name": "stdout",
     "output_type": "stream",
     "text": [
      "Trying example: test_not_c_never_decodes(char='0', number=0)\n",
      "Trying example: test_not_c_never_decodes(char='𦆔', number=17503)\n",
      "Trying example: test_not_c_never_decodes(char='\\U0003d012', number=14917)\n",
      "Trying example: test_not_c_never_decodes(char='\\U00097f59', number=13962)\n",
      "Trying example: test_not_c_never_decodes(char='\\U000bdc3b', number=1404012614)\n",
      "Trying example: test_not_c_never_decodes(char='𦶢', number=62)\n",
      "Trying example: test_not_c_never_decodes(char='\\U000b71e4', number=22570)\n",
      "Trying example: test_not_c_never_decodes(char='/', number=4863)\n",
      "Trying example: test_not_c_never_decodes(char='\\x07', number=2025010267)\n",
      "Trying example: test_not_c_never_decodes(char='\\t', number=24607)\n"
     ]
    }
   ],
   "source": [
    "test_not_c_never_decodes()"
   ]
  },
  {
   "cell_type": "markdown",
   "metadata": {
    "slideshow": {
     "slide_type": "slide"
    }
   },
   "source": [
    "### This works like a charm, right?"
   ]
  },
  {
   "cell_type": "code",
   "execution_count": 9,
   "metadata": {
    "slideshow": {
     "slide_type": "notes"
    }
   },
   "outputs": [],
   "source": [
    "import contextlib\n",
    "settings.load_profile('default')"
   ]
  },
  {
   "cell_type": "code",
   "execution_count": 10,
   "metadata": {},
   "outputs": [],
   "source": [
    "@given(strategies.text())\n",
    "def test_never_crashes(any_string):\n",
    "    assert isinstance(extract_id(any_string), int)"
   ]
  },
  {
   "cell_type": "code",
   "execution_count": 11,
   "metadata": {
    "slideshow": {
     "slide_type": "fragment"
    }
   },
   "outputs": [
    {
     "name": "stdout",
     "output_type": "stream",
     "text": [
      "Falsifying example: test_never_crashes(any_string='')\n"
     ]
    }
   ],
   "source": [
    "with contextlib.suppress(Exception):\n",
    "    test_never_crashes()"
   ]
  },
  {
   "cell_type": "markdown",
   "metadata": {
    "slideshow": {
     "slide_type": "skip"
    }
   },
   "source": [
    "Reminder: our `str_id[0]` might be at fault\n",
    "```python\n",
    "def extract_id(str_id: str) -> int:\n",
    "    if str_id[0] == 'c' and str_id[1:].isdigit():\n",
    "        return int(str_id[1:])\n",
    "    return -1\n",
    "```"
   ]
  },
  {
   "cell_type": "markdown",
   "metadata": {
    "slideshow": {
     "slide_type": "slide"
    }
   },
   "source": [
    "### Y'all got anymore bugs?"
   ]
  },
  {
   "cell_type": "code",
   "execution_count": 12,
   "metadata": {
    "slideshow": {
     "slide_type": "notes"
    }
   },
   "outputs": [],
   "source": [
    "import re\n",
    "settings.register_profile('try_a_lot', max_examples=10_000)\n",
    "settings.load_profile('try_a_lot')"
   ]
  },
  {
   "cell_type": "code",
   "execution_count": 13,
   "metadata": {},
   "outputs": [],
   "source": [
    "from hypothesis import assume\n",
    "RE_NUMBER = re.compile(r'^[0-9]+$')\n",
    "\n",
    "@given(strategies.text())\n",
    "def test_no_false_positives(not_a_number):\n",
    "    assume(RE_NUMBER.match(not_a_number) is None)\n",
    "    assert extract_id(f'c{not_a_number}') == -1"
   ]
  },
  {
   "cell_type": "code",
   "execution_count": 14,
   "metadata": {
    "slideshow": {
     "slide_type": "fragment"
    }
   },
   "outputs": [
    {
     "name": "stdout",
     "output_type": "stream",
     "text": [
      "Falsifying example: test_no_false_positives(not_a_number='❶')\n"
     ]
    }
   ],
   "source": [
    "with contextlib.suppress(Exception):\n",
    "    test_no_false_positives()"
   ]
  },
  {
   "cell_type": "code",
   "execution_count": 15,
   "metadata": {
    "slideshow": {
     "slide_type": "notes"
    }
   },
   "outputs": [],
   "source": [
    "settings.load_profile('default')"
   ]
  },
  {
   "cell_type": "markdown",
   "metadata": {
    "slideshow": {
     "slide_type": "slide"
    }
   },
   "source": [
    "### wut."
   ]
  },
  {
   "cell_type": "code",
   "execution_count": 16,
   "metadata": {},
   "outputs": [
    {
     "name": "stdout",
     "output_type": "stream",
     "text": [
      "7\tTrue\tTrue\tTrue\tTrue\n",
      "۳\tTrue\tTrue\tTrue\tTrue\n",
      "➒\tFalse\tTrue\tTrue\tTrue\n",
      "½\tFalse\tFalse\tTrue\tTrue\n",
      "四\tFalse\tFalse\tTrue\tTrue\n",
      "இ\tFalse\tFalse\tFalse\tTrue\n"
     ]
    }
   ],
   "source": [
    "for c in ('7', '\\u06f3', '\\u2792', '\\xbd','\\u56db', '\\u0b87'):\n",
    "    print(c, c.isdecimal(), c.isdigit(), c.isnumeric(), c.isalnum(), sep='\\t')"
   ]
  },
  {
   "cell_type": "markdown",
   "metadata": {
    "slideshow": {
     "slide_type": "fragment"
    }
   },
   "source": [
    "𝕿𝖍𝖔𝖚 𝖍𝖆𝖘𝖙 𝖜𝖆𝖐𝖊𝖙𝖍 𝖙𝖍𝖊 𝖜𝖗𝖆𝖙𝖍 𝖔𝖋 𝖀𝖓𝖎𝖈𝖔𝖉𝖊"
   ]
  },
  {
   "cell_type": "markdown",
   "metadata": {
    "slideshow": {
     "slide_type": "slide"
    }
   },
   "source": [
    "## 2. The Hypothesis Manual, Abridged"
   ]
  },
  {
   "cell_type": "markdown",
   "metadata": {
    "slideshow": {
     "slide_type": "slide"
    }
   },
   "source": [
    "### Back to the basics\n",
    "\n",
    "* `@given()` → Decorate a test to run Hypothesis\n",
    "* `strategies` → Data generators module"
   ]
  },
  {
   "cell_type": "markdown",
   "metadata": {
    "slideshow": {
     "slide_type": "fragment"
    }
   },
   "source": [
    "```python\n",
    "@given(strategy)\n",
    "def test_function(arguments):\n",
    "    assert test_condition(arguments)\n",
    "```"
   ]
  },
  {
   "cell_type": "markdown",
   "metadata": {
    "slideshow": {
     "slide_type": "slide"
    }
   },
   "source": [
    "### Skipping tests\n",
    "\n",
    "* `assume(condition)` → Ignore test if `condition` is false\n",
    "* Can also use `Strategy.filter()`"
   ]
  },
  {
   "cell_type": "markdown",
   "metadata": {
    "slideshow": {
     "slide_type": "fragment"
    }
   },
   "source": [
    "**Warning:**  \n",
    "If too many attempts are invalidated, Hypothesis eventually gives up."
   ]
  },
  {
   "cell_type": "markdown",
   "metadata": {
    "slideshow": {
     "slide_type": "slide"
    }
   },
   "source": [
    "### Forcing a test input\n",
    "\n",
    "* `@example(*arguments)` → Forces a specific test input\n",
    "\n",
    "This is _in addition to_ the randomly generated examples.  \n",
    "Useful for systematically testing a known failing input or corner case."
   ]
  },
  {
   "cell_type": "markdown",
   "metadata": {
    "slideshow": {
     "slide_type": "-"
    }
   },
   "source": [
    "```python\n",
    "@given(strategies.integers(), strategies.integers())\n",
    "@example(1000, -1000)\n",
    "def test_addition_commutative(x, y):\n",
    "    assert x + y == y + x\n",
    "```"
   ]
  },
  {
   "cell_type": "code",
   "execution_count": 17,
   "metadata": {
    "slideshow": {
     "slide_type": "notes"
    }
   },
   "outputs": [],
   "source": [
    "settings.load_profile('demo')"
   ]
  },
  {
   "cell_type": "code",
   "execution_count": 18,
   "metadata": {
    "scrolled": true,
    "slideshow": {
     "slide_type": "skip"
    }
   },
   "outputs": [],
   "source": [
    "from hypothesis import example\n",
    "\n",
    "@given(strategies.integers(), strategies.integers())\n",
    "@example(71, 212)\n",
    "@example(1, -1)\n",
    "def test_addition_commutative(x, y):\n",
    "    assert x + y == y + x"
   ]
  },
  {
   "cell_type": "code",
   "execution_count": 19,
   "metadata": {
    "scrolled": true,
    "slideshow": {
     "slide_type": "skip"
    }
   },
   "outputs": [
    {
     "name": "stdout",
     "output_type": "stream",
     "text": [
      "Trying example: test_addition_commutative(x=71, y=212)\n",
      "Trying example: test_addition_commutative(x=1, y=-1)\n",
      "Trying example: test_addition_commutative(x=0, y=0)\n",
      "Trying example: test_addition_commutative(x=2264, y=-20525)\n",
      "Trying example: test_addition_commutative(x=105, y=-48)\n",
      "Trying example: test_addition_commutative(x=2873, y=92)\n",
      "Trying example: test_addition_commutative(x=-59, y=-50)\n",
      "Trying example: test_addition_commutative(x=-6961, y=58)\n",
      "Trying example: test_addition_commutative(x=108, y=-103497676963079845226034321549979989840)\n",
      "Trying example: test_addition_commutative(x=4080, y=1785)\n",
      "Trying example: test_addition_commutative(x=-25853, y=-27057)\n",
      "Trying example: test_addition_commutative(x=-13752, y=1181)\n"
     ]
    }
   ],
   "source": [
    "test_addition_commutative()"
   ]
  },
  {
   "cell_type": "code",
   "execution_count": 20,
   "metadata": {
    "slideshow": {
     "slide_type": "notes"
    }
   },
   "outputs": [],
   "source": [
    "settings.load_profile('default')"
   ]
  },
  {
   "cell_type": "markdown",
   "metadata": {
    "slideshow": {
     "slide_type": "slide"
    }
   },
   "source": [
    "### The Magic of Failure"
   ]
  },
  {
   "cell_type": "markdown",
   "metadata": {
    "slideshow": {
     "slide_type": "fragment"
    }
   },
   "source": [
    "When an input fails, Hypothesis **shrinks** it to the simplest case."
   ]
  },
  {
   "cell_type": "markdown",
   "metadata": {
    "slideshow": {
     "slide_type": "fragment"
    }
   },
   "source": [
    "Hypothesis remembers failing input in its **database** and tries it again next time."
   ]
  },
  {
   "cell_type": "markdown",
   "metadata": {
    "slideshow": {
     "slide_type": "slide"
    }
   },
   "source": [
    "### What to test?\n",
    "\n",
    "Look for *invariant* properties:\n",
    "\n",
    "1. Does the function *crash* when it shouldn't? (e.g. validators)\n",
    "2. Does the inverse function return the same input? (e.g. parsers, serializers)\n",
    "3. Is the function *idempotent*?\n",
    "4. Does the function match a known other function? (optimization, refactor)"
   ]
  },
  {
   "cell_type": "markdown",
   "metadata": {
    "slideshow": {
     "slide_type": "slide"
    }
   },
   "source": [
    "## 3. Strategic Overview"
   ]
  },
  {
   "cell_type": "markdown",
   "metadata": {
    "slideshow": {
     "slide_type": "slide"
    }
   },
   "source": [
    "### The simple stuff"
   ]
  },
  {
   "cell_type": "code",
   "execution_count": 21,
   "metadata": {
    "slideshow": {
     "slide_type": "notes"
    }
   },
   "outputs": [],
   "source": [
    "def gimme_examples(strategy, n=5):\n",
    "    for _ in range(n):\n",
    "        print(strategy.example())"
   ]
  },
  {
   "cell_type": "code",
   "execution_count": 22,
   "metadata": {},
   "outputs": [
    {
     "name": "stdout",
     "output_type": "stream",
     "text": [
      "9007199254740992.0\n",
      "-inf\n",
      "nan\n",
      "-0.3333333333333333\n",
      "9007199254740992.0\n"
     ]
    }
   ],
   "source": [
    "gimme_examples(strategies.floats())"
   ]
  },
  {
   "cell_type": "code",
   "execution_count": 36,
   "metadata": {
    "slideshow": {
     "slide_type": "fragment"
    }
   },
   "outputs": [
    {
     "name": "stdout",
     "output_type": "stream",
     "text": [
      "b'\\xf3\\xb4\\xb9\\x81\\xf3\\x9d\\x97\\xa1\"\\x1e+'\n",
      "b''\n",
      "b'\\xe8\\xba\\xab\\xf4\\x83\\x8c\\xae\\x11\\xf1\\xa2\\x94\\xaa\\xf1\\x8f\\x94\\x94\\xf0\\x99\\x90\\x8b\\xf2\\x98\\xbc\\xb2\\r\\xeb\\xaf\\x90'\n",
      "b'\\r\\x14+'\n",
      "b'\\x050\\x00'\n"
     ]
    }
   ],
   "source": [
    "gimme_examples(strategies.text().map(str.encode))"
   ]
  },
  {
   "cell_type": "markdown",
   "metadata": {
    "slideshow": {
     "slide_type": "slide"
    }
   },
   "source": [
    "### Collections"
   ]
  },
  {
   "cell_type": "code",
   "execution_count": 38,
   "metadata": {},
   "outputs": [
    {
     "name": "stdout",
     "output_type": "stream",
     "text": [
      "[19031, 25378, -7319435685091632798, 6127, -4365, -8657, -29071]\n",
      "[-13208, -20178]\n",
      "[-196145342]\n",
      "[]\n",
      "[30, -27607, 21790, -557858677168247956, -21788, -27406, -8816, 19714, 4678, 15, -1894378146403338185, -10141]\n"
     ]
    }
   ],
   "source": [
    "gimme_examples(strategies.lists(strategies.integers()))"
   ]
  },
  {
   "cell_type": "markdown",
   "metadata": {},
   "source": [
    "Also: `sets`, `dictionaries`, `tuples`, `iterables`, `frozensets`"
   ]
  },
  {
   "cell_type": "markdown",
   "metadata": {
    "slideshow": {
     "slide_type": "slide"
    }
   },
   "source": [
    "### Building objects"
   ]
  },
  {
   "cell_type": "code",
   "execution_count": 25,
   "metadata": {
    "slideshow": {
     "slide_type": "notes"
    }
   },
   "outputs": [],
   "source": [
    "from decimal import Decimal\n",
    "from dataclasses import dataclass\n",
    "from string import ascii_letters"
   ]
  },
  {
   "cell_type": "code",
   "execution_count": 26,
   "metadata": {},
   "outputs": [],
   "source": [
    "@dataclass\n",
    "class Customer:\n",
    "    username: str\n",
    "    customer_id: int\n",
    "    account_balance: Decimal"
   ]
  },
  {
   "cell_type": "code",
   "execution_count": 27,
   "metadata": {
    "scrolled": true,
    "slideshow": {
     "slide_type": "fragment"
    }
   },
   "outputs": [
    {
     "name": "stdout",
     "output_type": "stream",
     "text": [
      "Customer(username='\\U0005813e(', customer_id=-985602706, account_balance=Decimal('-0.704'))\n",
      "Customer(username='\\x0b', customer_id=1068358331, account_balance=Decimal('0.6468571'))\n",
      "Customer(username='塀\\x05\\U000ba92d\\U00012dd1\\U000f166e\\x1f\\n\\U000f438b', customer_id=-1019875701, account_balance=Decimal('-Infinity'))\n",
      "Customer(username='\\U00013e7e-\\U00044b77', customer_id=-54, account_balance=Decimal('NaN'))\n",
      "Customer(username='#', customer_id=-25903, account_balance=Decimal('-Infinity'))\n"
     ]
    }
   ],
   "source": [
    "gimme_examples(strategies.builds(Customer))"
   ]
  },
  {
   "cell_type": "markdown",
   "metadata": {
    "slideshow": {
     "slide_type": "slide"
    }
   },
   "source": [
    "### Composite strategies"
   ]
  },
  {
   "cell_type": "code",
   "execution_count": 28,
   "metadata": {},
   "outputs": [],
   "source": [
    "@strategies.composite\n",
    "def char_ids(draw):\n",
    "    prefix = draw(strategies.sampled_from(ascii_letters))\n",
    "    number = draw(strategies.integers(min_value=0))\n",
    "    return f'{prefix}/{number}'"
   ]
  },
  {
   "cell_type": "code",
   "execution_count": 29,
   "metadata": {
    "scrolled": true,
    "slideshow": {
     "slide_type": "fragment"
    }
   },
   "outputs": [
    {
     "name": "stdout",
     "output_type": "stream",
     "text": [
      "y/115664219\n",
      "h/26745\n",
      "m/438350873\n",
      "m/22055\n",
      "M/58\n"
     ]
    }
   ],
   "source": [
    "gimme_examples(char_ids())"
   ]
  },
  {
   "cell_type": "markdown",
   "metadata": {
    "slideshow": {
     "slide_type": "slide"
    }
   },
   "source": [
    "### ...and much more!\n",
    "\n",
    "Dates and time, composition tools, recursive data structures, functional tools...\n",
    "\n",
    "https://hypothesis.readthedocs.io/en/latest/data.html"
   ]
  },
  {
   "cell_type": "markdown",
   "metadata": {
    "slideshow": {
     "slide_type": "slide"
    }
   },
   "source": [
    "## 4. The Bonus Features"
   ]
  },
  {
   "cell_type": "markdown",
   "metadata": {
    "slideshow": {
     "slide_type": "slide"
    }
   },
   "source": [
    "### Django support\n",
    "\n",
    "* Must use `hypothesis.extra.django.TestCase` instead of `django.test.TestCase`.\n",
    "* Automatic DB model creation strategy: `hypothesis.extra.django.from_model`."
   ]
  },
  {
   "cell_type": "markdown",
   "metadata": {
    "slideshow": {
     "slide_type": "fragment"
    }
   },
   "source": [
    "```python\n",
    "from hypothesis import given\n",
    "from hypothesis.extra.django import TestCase, from_model\n",
    "\n",
    "class CustomerRecordsTest(TestCase):\n",
    "    @given(from_model(CustomerRecord))\n",
    "    def test_customer_record(record):\n",
    "        # Relevant test with DB usage\n",
    "```"
   ]
  },
  {
   "cell_type": "markdown",
   "metadata": {
    "slideshow": {
     "slide_type": "slide"
    }
   },
   "source": [
    "### Settings profiles"
   ]
  },
  {
   "cell_type": "markdown",
   "metadata": {},
   "source": [
    "Some hidden code from earlier in this presentation:\n",
    "```python\n",
    "from hypothesis import settings, Verbosity\n",
    "settings.register_profile('demo', verbosity=Verbosity.verbose, max_examples=10)\n",
    "settings.load_profile('demo')\n",
    "```"
   ]
  },
  {
   "cell_type": "markdown",
   "metadata": {
    "slideshow": {
     "slide_type": "fragment"
    }
   },
   "source": [
    "**Usage example:** run local tests with few examples, run CI tests with many"
   ]
  },
  {
   "cell_type": "markdown",
   "metadata": {
    "slideshow": {
     "slide_type": "slide"
    }
   },
   "source": [
    "### pytest support\n",
    "\n",
    "Running hypothesis tests through `pytest` exposes CLI options to:\n",
    "* Set the test seed\n",
    "* Set the verbosity\n",
    "* Set a custom profile:  \n",
    "      pytest --hypothesis-profile=ci_tests .\n",
    "* Collect runtime statistics:\n",
    "      pytest --hypothesis-show-statistics ."
   ]
  },
  {
   "cell_type": "markdown",
   "metadata": {
    "slideshow": {
     "slide_type": "fragment"
    }
   },
   "source": [
    "**Fact:** you should be using `pytest`"
   ]
  },
  {
   "cell_type": "markdown",
   "metadata": {
    "slideshow": {
     "slide_type": "skip"
    }
   },
   "source": [
    "```\n",
    "test_extract_id.py::test_int_always_decodes:\n",
    "  - 100 passing examples, 0 failing examples, 0 invalid examples\n",
    "  - Typical runtimes: < 1ms\n",
    "  - Fraction of time spent in data generation: ~ 47%\n",
    "  - Stopped because settings.max_examples=100\n",
    "\n",
    "test_extract_id.py::test_not_c_never_decodes:\n",
    "  - 100 passing examples, 0 failing examples, 0 invalid examples\n",
    "  - Typical runtimes: < 1ms\n",
    "  - Fraction of time spent in data generation: ~ 63%\n",
    "  - Stopped because settings.max_examples=100\n",
    "\n",
    "test_extract_id.py::test_never_crashes:\n",
    "  - 0 passing examples, 2 failing examples, 0 invalid examples\n",
    "  - Typical runtimes: 0-15 ms\n",
    "  - Fraction of time spent in data generation: ~ 1%\n",
    "  - Stopped because nothing left to do\n",
    "\n",
    "test_extract_id.py::test_no_false_positives:\n",
    "  - 8 passing examples, 8 failing examples, 5 invalid examples\n",
    "  - Typical runtimes: < 1ms\n",
    "  - Fraction of time spent in data generation: ~ 35%\n",
    "  - Stopped because nothing left to do\n",
    "```"
   ]
  },
  {
   "cell_type": "markdown",
   "metadata": {
    "slideshow": {
     "slide_type": "skip"
    }
   },
   "source": [
    "### Stateful testing\n",
    "\n",
    "> With Hypothesis’s stateful testing, \\[it\\] tries to generate not just data but entire tests. You specify a number of primitive actions that can be combined together, and then **Hypothesis will try to find sequences of those actions that result in a failure**.\n",
    "\n",
    "Useful for testing more complex system, e.g. database APIs.\n",
    "\n",
    "Haven't used it yet myself, so this counts as homework:  \n",
    "https://hypothesis.readthedocs.io/en/latest/stateful.html"
   ]
  },
  {
   "cell_type": "markdown",
   "metadata": {
    "slideshow": {
     "slide_type": "slide"
    }
   },
   "source": [
    "## Conclusion"
   ]
  },
  {
   "cell_type": "markdown",
   "metadata": {
    "slideshow": {
     "slide_type": "slide"
    }
   },
   "source": [
    "### Conclusion\n",
    "\n",
    "Hypothesis is good at:\n",
    "\n",
    "* Finding the edge case bugs you forgot\n",
    "* Testing mission-critical logic that **must** be reliable\n",
    "* Testing bidirectional functions (e.g. parsers, serializers)\n",
    "* Fuzzy testing"
   ]
  },
  {
   "cell_type": "markdown",
   "metadata": {
    "slideshow": {
     "slide_type": "fragment"
    }
   },
   "source": [
    "However:\n",
    "\n",
    "* Tests **must** be invariant\n",
    "* Tests should be fast\n",
    "* It's bad at generating \"real\" data (use `faker`)\n",
    "* It should not replace sanity/smoke tests"
   ]
  },
  {
   "cell_type": "markdown",
   "metadata": {
    "slideshow": {
     "slide_type": "slide"
    }
   },
   "source": [
    "# Thank you!\n",
    "\n",
    "Slides on:  \n",
    "https://github.com/xvillaneau/talks\n",
    "\n",
    "### Further reading\n",
    "\n",
    "David R. MacIver, The Purpose of Hypothesis  \n",
    "https://hypothesis.readthedocs.io/en/latest/manifesto.html\n",
    "\n",
    "Scott W., Choosing properties for property-based testing  \n",
    "https://fsharpforfunandprofit.com/posts/property-based-testing-2/\n",
    "\n",
    "Joe \"begriffs\" Nelson, The Design and Use of QuickCheck  \n",
    "https://begriffs.com/posts/2017-01-14-design-use-quickcheck.html"
   ]
  }
 ],
 "metadata": {
  "celltoolbar": "Slideshow",
  "kernelspec": {
   "display_name": "Python 3",
   "language": "python",
   "name": "python3"
  },
  "language_info": {
   "codemirror_mode": {
    "name": "ipython",
    "version": 3
   },
   "file_extension": ".py",
   "mimetype": "text/x-python",
   "name": "python",
   "nbconvert_exporter": "python",
   "pygments_lexer": "ipython3",
   "version": "3.7.1"
  }
 },
 "nbformat": 4,
 "nbformat_minor": 2
}
