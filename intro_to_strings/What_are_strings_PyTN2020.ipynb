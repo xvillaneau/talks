{
 "cells": [
  {
   "cell_type": "markdown",
   "metadata": {
    "slideshow": {
     "slide_type": "slide"
    }
   },
   "source": [
    "# What are Strings?\n",
    "\n",
    "PyTennessee 2020 Open Space\n",
    "\n",
    "Xavier Villaneau | @xvillaneau | xvillaneau@gmail.com"
   ]
  },
  {
   "cell_type": "markdown",
   "metadata": {
    "slideshow": {
     "slide_type": "slide"
    }
   },
   "source": [
    "## What is a string?"
   ]
  },
  {
   "cell_type": "markdown",
   "metadata": {
    "slideshow": {
     "slide_type": "fragment"
    }
   },
   "source": [
    "- **Goal:**  \n",
    "  Represent text in a computer\n",
    "\n",
    "- **Problem:**  \n",
    "  Computers only understand numbers\n",
    "\n",
    "- **Solution:**  \n",
    "  Store letters as numbers!"
   ]
  },
  {
   "cell_type": "markdown",
   "metadata": {
    "slideshow": {
     "slide_type": "slide"
    }
   },
   "source": [
    "## String = Sequence of numbers"
   ]
  },
  {
   "cell_type": "code",
   "execution_count": 1,
   "metadata": {
    "slideshow": {
     "slide_type": "fragment"
    }
   },
   "outputs": [
    {
     "data": {
      "text/plain": [
       "[72, 101, 108, 108, 111, 32, 87, 111, 114, 108, 100, 33]"
      ]
     },
     "execution_count": 1,
     "metadata": {},
     "output_type": "execute_result"
    }
   ],
   "source": [
    "list(b\"Hello World!\")"
   ]
  },
  {
   "cell_type": "markdown",
   "metadata": {
    "slideshow": {
     "slide_type": "fragment"
    }
   },
   "source": [
    "Any structure as long as it's ordered:  \n",
    "array, linked list, tree…"
   ]
  },
  {
   "cell_type": "markdown",
   "metadata": {
    "slideshow": {
     "slide_type": "slide"
    }
   },
   "source": [
    "## How do strings work?\n",
    "\n",
    "Matching letters to numbers = **Encoding**"
   ]
  },
  {
   "cell_type": "markdown",
   "metadata": {
    "slideshow": {
     "slide_type": "fragment"
    }
   },
   "source": [
    "Binary text encoding is _much_ older than computers.\n",
    "\n",
    "History time."
   ]
  },
  {
   "cell_type": "markdown",
   "metadata": {
    "slideshow": {
     "slide_type": "slide"
    }
   },
   "source": [
    "![alt text](Baudot_Code_-_from_1888_patent.png)"
   ]
  },
  {
   "cell_type": "markdown",
   "metadata": {
    "slideshow": {
     "slide_type": "subslide"
    }
   },
   "source": [
    "## The Baudot Code\n",
    "\n",
    "* Invented 1870 (patented later)\n",
    "* 5-bit **stateful** encoding\n",
    "* Designed for use by humans"
   ]
  },
  {
   "cell_type": "markdown",
   "metadata": {
    "slideshow": {
     "slide_type": "subslide"
    }
   },
   "source": [
    "## The Murray Code\n",
    "\n",
    "* Invented 1901\n",
    "* Better Baudot code for machines\n",
    "* Introduced **control characters**\n",
    "\n",
    "Industry standard up through the 1950s"
   ]
  },
  {
   "cell_type": "markdown",
   "metadata": {
    "slideshow": {
     "slide_type": "subslide"
    }
   },
   "source": [
    "![Colossus](Colossus.jpg)"
   ]
  },
  {
   "cell_type": "markdown",
   "metadata": {
    "slideshow": {
     "slide_type": "notes"
    }
   },
   "source": [
    "A Colossus Mark 2 codebreaking omputer, 1943. Operating staff had 272 women and 27 men!"
   ]
  },
  {
   "cell_type": "markdown",
   "metadata": {
    "slideshow": {
     "slide_type": "slide"
    }
   },
   "source": [
    "## The ASCII Encoding\n",
    "\n",
    "- 7-bit code (128 characters)\n",
    "- Published in 1963\n",
    "- Designed for Teletype / Teleprinters\n",
    "- Base of practically all other encodings created since"
   ]
  },
  {
   "cell_type": "markdown",
   "metadata": {
    "slideshow": {
     "slide_type": "subslide"
    }
   },
   "source": [
    "## The ASCII Encoding"
   ]
  },
  {
   "cell_type": "code",
   "execution_count": 2,
   "metadata": {
    "slideshow": {
     "slide_type": "skip"
    }
   },
   "outputs": [],
   "source": [
    "import numpy as np\n",
    "import pandas as pd\n",
    "\n",
    "ascii_chars = [\n",
    "    \"␀␁␂␃␄␅␆␇␈␉␊␋␌␍␎␏\",\n",
    "    \"␐␑␒␓␔␕␖␗␘␙␚␛␜␝␞␟\",\n",
    "    \" !\\\"#$%&'()*+,-./\",\n",
    "    \"0123456789:;<=>?\",\n",
    "    \"@ABCDEFGHIJKLMNO\",\n",
    "    \"PQRSTUVWXZY[\\\\]^_\",\n",
    "    \"`abcdefghijklmno\",\n",
    "    \"pqrstuvwxyz{|}~␡\",\n",
    "]\n",
    "ascii_col = [f\"_{n:x}\" for n in range(16)]\n",
    "ascii_row = [f\"{n:x}_\" for n in range(8)]\n",
    "np_ascii = np.array([list(line) for line in ascii_chars])\n",
    "ascii_table = pd.DataFrame(np_ascii, columns=ascii_col, index=ascii_row)"
   ]
  },
  {
   "cell_type": "code",
   "execution_count": 3,
   "metadata": {
    "slideshow": {
     "slide_type": "-"
    }
   },
   "outputs": [
    {
     "data": {
      "text/html": [
       "<div>\n",
       "<style scoped>\n",
       "    .dataframe tbody tr th:only-of-type {\n",
       "        vertical-align: middle;\n",
       "    }\n",
       "\n",
       "    .dataframe tbody tr th {\n",
       "        vertical-align: top;\n",
       "    }\n",
       "\n",
       "    .dataframe thead th {\n",
       "        text-align: right;\n",
       "    }\n",
       "</style>\n",
       "<table border=\"1\" class=\"dataframe\">\n",
       "  <thead>\n",
       "    <tr style=\"text-align: right;\">\n",
       "      <th></th>\n",
       "      <th>_0</th>\n",
       "      <th>_1</th>\n",
       "      <th>_2</th>\n",
       "      <th>_3</th>\n",
       "      <th>_4</th>\n",
       "      <th>_5</th>\n",
       "      <th>_6</th>\n",
       "      <th>_7</th>\n",
       "      <th>_8</th>\n",
       "      <th>_9</th>\n",
       "      <th>_a</th>\n",
       "      <th>_b</th>\n",
       "      <th>_c</th>\n",
       "      <th>_d</th>\n",
       "      <th>_e</th>\n",
       "      <th>_f</th>\n",
       "    </tr>\n",
       "  </thead>\n",
       "  <tbody>\n",
       "    <tr>\n",
       "      <th>0_</th>\n",
       "      <td>␀</td>\n",
       "      <td>␁</td>\n",
       "      <td>␂</td>\n",
       "      <td>␃</td>\n",
       "      <td>␄</td>\n",
       "      <td>␅</td>\n",
       "      <td>␆</td>\n",
       "      <td>␇</td>\n",
       "      <td>␈</td>\n",
       "      <td>␉</td>\n",
       "      <td>␊</td>\n",
       "      <td>␋</td>\n",
       "      <td>␌</td>\n",
       "      <td>␍</td>\n",
       "      <td>␎</td>\n",
       "      <td>␏</td>\n",
       "    </tr>\n",
       "    <tr>\n",
       "      <th>1_</th>\n",
       "      <td>␐</td>\n",
       "      <td>␑</td>\n",
       "      <td>␒</td>\n",
       "      <td>␓</td>\n",
       "      <td>␔</td>\n",
       "      <td>␕</td>\n",
       "      <td>␖</td>\n",
       "      <td>␗</td>\n",
       "      <td>␘</td>\n",
       "      <td>␙</td>\n",
       "      <td>␚</td>\n",
       "      <td>␛</td>\n",
       "      <td>␜</td>\n",
       "      <td>␝</td>\n",
       "      <td>␞</td>\n",
       "      <td>␟</td>\n",
       "    </tr>\n",
       "    <tr>\n",
       "      <th>2_</th>\n",
       "      <td></td>\n",
       "      <td>!</td>\n",
       "      <td>\"</td>\n",
       "      <td>#</td>\n",
       "      <td>$</td>\n",
       "      <td>%</td>\n",
       "      <td>&amp;</td>\n",
       "      <td>'</td>\n",
       "      <td>(</td>\n",
       "      <td>)</td>\n",
       "      <td>*</td>\n",
       "      <td>+</td>\n",
       "      <td>,</td>\n",
       "      <td>-</td>\n",
       "      <td>.</td>\n",
       "      <td>/</td>\n",
       "    </tr>\n",
       "    <tr>\n",
       "      <th>3_</th>\n",
       "      <td>0</td>\n",
       "      <td>1</td>\n",
       "      <td>2</td>\n",
       "      <td>3</td>\n",
       "      <td>4</td>\n",
       "      <td>5</td>\n",
       "      <td>6</td>\n",
       "      <td>7</td>\n",
       "      <td>8</td>\n",
       "      <td>9</td>\n",
       "      <td>:</td>\n",
       "      <td>;</td>\n",
       "      <td>&lt;</td>\n",
       "      <td>=</td>\n",
       "      <td>&gt;</td>\n",
       "      <td>?</td>\n",
       "    </tr>\n",
       "    <tr>\n",
       "      <th>4_</th>\n",
       "      <td>@</td>\n",
       "      <td>A</td>\n",
       "      <td>B</td>\n",
       "      <td>C</td>\n",
       "      <td>D</td>\n",
       "      <td>E</td>\n",
       "      <td>F</td>\n",
       "      <td>G</td>\n",
       "      <td>H</td>\n",
       "      <td>I</td>\n",
       "      <td>J</td>\n",
       "      <td>K</td>\n",
       "      <td>L</td>\n",
       "      <td>M</td>\n",
       "      <td>N</td>\n",
       "      <td>O</td>\n",
       "    </tr>\n",
       "    <tr>\n",
       "      <th>5_</th>\n",
       "      <td>P</td>\n",
       "      <td>Q</td>\n",
       "      <td>R</td>\n",
       "      <td>S</td>\n",
       "      <td>T</td>\n",
       "      <td>U</td>\n",
       "      <td>V</td>\n",
       "      <td>W</td>\n",
       "      <td>X</td>\n",
       "      <td>Z</td>\n",
       "      <td>Y</td>\n",
       "      <td>[</td>\n",
       "      <td>\\</td>\n",
       "      <td>]</td>\n",
       "      <td>^</td>\n",
       "      <td>_</td>\n",
       "    </tr>\n",
       "    <tr>\n",
       "      <th>6_</th>\n",
       "      <td>`</td>\n",
       "      <td>a</td>\n",
       "      <td>b</td>\n",
       "      <td>c</td>\n",
       "      <td>d</td>\n",
       "      <td>e</td>\n",
       "      <td>f</td>\n",
       "      <td>g</td>\n",
       "      <td>h</td>\n",
       "      <td>i</td>\n",
       "      <td>j</td>\n",
       "      <td>k</td>\n",
       "      <td>l</td>\n",
       "      <td>m</td>\n",
       "      <td>n</td>\n",
       "      <td>o</td>\n",
       "    </tr>\n",
       "    <tr>\n",
       "      <th>7_</th>\n",
       "      <td>p</td>\n",
       "      <td>q</td>\n",
       "      <td>r</td>\n",
       "      <td>s</td>\n",
       "      <td>t</td>\n",
       "      <td>u</td>\n",
       "      <td>v</td>\n",
       "      <td>w</td>\n",
       "      <td>x</td>\n",
       "      <td>y</td>\n",
       "      <td>z</td>\n",
       "      <td>{</td>\n",
       "      <td>|</td>\n",
       "      <td>}</td>\n",
       "      <td>~</td>\n",
       "      <td>␡</td>\n",
       "    </tr>\n",
       "  </tbody>\n",
       "</table>\n",
       "</div>"
      ],
      "text/plain": [
       "   _0 _1 _2 _3 _4 _5 _6 _7 _8 _9 _a _b _c _d _e _f\n",
       "0_  ␀  ␁  ␂  ␃  ␄  ␅  ␆  ␇  ␈  ␉  ␊  ␋  ␌  ␍  ␎  ␏\n",
       "1_  ␐  ␑  ␒  ␓  ␔  ␕  ␖  ␗  ␘  ␙  ␚  ␛  ␜  ␝  ␞  ␟\n",
       "2_     !  \"  #  $  %  &  '  (  )  *  +  ,  -  .  /\n",
       "3_  0  1  2  3  4  5  6  7  8  9  :  ;  <  =  >  ?\n",
       "4_  @  A  B  C  D  E  F  G  H  I  J  K  L  M  N  O\n",
       "5_  P  Q  R  S  T  U  V  W  X  Z  Y  [  \\  ]  ^  _\n",
       "6_  `  a  b  c  d  e  f  g  h  i  j  k  l  m  n  o\n",
       "7_  p  q  r  s  t  u  v  w  x  y  z  {  |  }  ~  ␡"
      ]
     },
     "execution_count": 3,
     "metadata": {},
     "output_type": "execute_result"
    }
   ],
   "source": [
    "ascii_table"
   ]
  },
  {
   "cell_type": "markdown",
   "metadata": {
    "slideshow": {
     "slide_type": "subslide"
    }
   },
   "source": [
    "## Meanwhile at IBM…\n",
    "\n",
    "* Created the EBCDIC 8-bit encoding\n",
    "* Designed for System/360 released in 1964\n",
    "* Totally ASCII-incompatible"
   ]
  },
  {
   "cell_type": "markdown",
   "metadata": {
    "slideshow": {
     "slide_type": "fragment"
    }
   },
   "source": [
    "System/360 popularized using 8 bits as a byte."
   ]
  },
  {
   "cell_type": "markdown",
   "metadata": {
    "slideshow": {
     "slide_type": "slide"
    }
   },
   "source": [
    "## What about other languages?\n",
    "\n",
    "\"Extended ASCII\" codes use the 8<sup>th</sup> bit for 128 extra characters."
   ]
  },
  {
   "cell_type": "markdown",
   "metadata": {
    "slideshow": {
     "slide_type": "fragment"
    }
   },
   "source": [
    "- ISO-8859\n",
    "- KOI8\n",
    "- Windows-1252\n",
    "- Mac OS Roman\n",
    "- …"
   ]
  },
  {
   "cell_type": "markdown",
   "metadata": {
    "slideshow": {
     "slide_type": "slide"
    }
   },
   "source": [
    "## Unicode\n",
    "\n",
    "Having all these encodings is inconvenient, because Internet."
   ]
  },
  {
   "cell_type": "markdown",
   "metadata": {
    "slideshow": {
     "slide_type": "fragment"
    }
   },
   "source": [
    "**Unicode** = international standard for encoding text.\n",
    "\n",
    "Currently includes 137,994 characters! (more soon)"
   ]
  },
  {
   "cell_type": "markdown",
   "metadata": {
    "slideshow": {
     "slide_type": "subslide"
    }
   },
   "source": [
    "## Unicode\n",
    "\n",
    "* Code points allowed: 0 - 1,114,111 (`0x10FFFF`)\n",
    "* Codes 0 - 255 based on Latin-1\n",
    "* Each 16-bit block is called a _plane_\n"
   ]
  },
  {
   "cell_type": "markdown",
   "metadata": {
    "slideshow": {
     "slide_type": "slide"
    }
   },
   "source": [
    "## UTF-8\n",
    "\n",
    "UTF-8 is the most popular way to encode Unicode."
   ]
  },
  {
   "cell_type": "markdown",
   "metadata": {
    "slideshow": {
     "slide_type": "fragment"
    }
   },
   "source": [
    "- Superset of ASCII\n",
    "- Uses between 1 and 4 bytes per character\n",
    "- Never produces null bytes except for `U+0`"
   ]
  },
  {
   "cell_type": "markdown",
   "metadata": {
    "slideshow": {
     "slide_type": "subslide"
    }
   },
   "source": [
    "## UTF-8\n",
    "\n",
    "| From      | To         | Byte 1     | Byte 2     | Byte 3     | Byte 4     |\n",
    "|-----------|------------|------------|------------|------------|------------|\n",
    "|     `U+0` |     `U+7F` | `0xxxxxxx` |            |            |            |\n",
    "|    `U+80` |    `U+7FF` | `110xxxxx` | `10xxxxxx` |            |            |\n",
    "|   `U+800` |   `U+FFFF` | `1110xxxx` | `10xxxxxx` | `10xxxxxx` |            |\n",
    "| `U+10000` | `U+10FFFF` | `11110xxx` | `10xxxxxx` | `10xxxxxx` | `10xxxxxx` |"
   ]
  },
  {
   "cell_type": "markdown",
   "metadata": {
    "slideshow": {
     "slide_type": "subslide"
    }
   },
   "source": [
    "## UTF-8 Example\n",
    "\n",
    "The Thumbs Up (👍) emoji: `U+1F44D`"
   ]
  },
  {
   "cell_type": "markdown",
   "metadata": {
    "slideshow": {
     "slide_type": "fragment"
    }
   },
   "source": [
    "In binary: `0001.1111.0100.0100.1101`  \n",
    "Re-arranged: `000.011111.010001.001101`"
   ]
  },
  {
   "cell_type": "markdown",
   "metadata": {
    "slideshow": {
     "slide_type": "fragment"
    }
   },
   "source": [
    "UTF-8: `11110000.10011111.10010001.10001101`  \n",
    "Or: `F0.9F.91.8D`"
   ]
  },
  {
   "cell_type": "markdown",
   "metadata": {
    "slideshow": {
     "slide_type": "subslide"
    }
   },
   "source": [
    "## ⚠ Unicode ≠ UTF-8 ⚠\n",
    "\n",
    "- **Unicode:**  \n",
    "  Assigns _code points_ to characters\n",
    "- **UTF-8:**  \n",
    "  Converts code points into _bytes_"
   ]
  },
  {
   "cell_type": "markdown",
   "metadata": {
    "slideshow": {
     "slide_type": "slide"
    }
   },
   "source": [
    "## Strings in Python\n",
    "\n",
    "> Strings are immutable sequences of Unicode code points.\n",
    "\n",
    "https://docs.python.org/3.8/library/stdtypes.html#textseq"
   ]
  },
  {
   "cell_type": "markdown",
   "metadata": {
    "slideshow": {
     "slide_type": "subslide"
    }
   },
   "source": [
    "## Demonstration"
   ]
  },
  {
   "cell_type": "markdown",
   "metadata": {
    "slideshow": {
     "slide_type": "subslide"
    }
   },
   "source": [
    "## Demonstration (plan B)"
   ]
  },
  {
   "cell_type": "code",
   "execution_count": 6,
   "metadata": {
    "scrolled": false,
    "slideshow": {
     "slide_type": "-"
    }
   },
   "outputs": [
    {
     "data": {
      "text/plain": [
       "'Pandora 👍'"
      ]
     },
     "execution_count": 6,
     "metadata": {},
     "output_type": "execute_result"
    }
   ],
   "source": [
    "s = \"Pandora \\U0001F44D\"\n",
    "s"
   ]
  },
  {
   "cell_type": "code",
   "execution_count": 7,
   "metadata": {
    "slideshow": {
     "slide_type": "fragment"
    }
   },
   "outputs": [
    {
     "data": {
      "text/plain": [
       "b'Pandora \\xf0\\x9f\\x91\\x8d'"
      ]
     },
     "execution_count": 7,
     "metadata": {},
     "output_type": "execute_result"
    }
   ],
   "source": [
    "s.encode()"
   ]
  },
  {
   "cell_type": "code",
   "execution_count": 8,
   "metadata": {
    "slideshow": {
     "slide_type": "fragment"
    }
   },
   "outputs": [
    {
     "data": {
      "text/plain": [
       "'Pandora ðŸ‘�'"
      ]
     },
     "execution_count": 8,
     "metadata": {},
     "output_type": "execute_result"
    }
   ],
   "source": [
    "s.encode().decode('cp1252', 'replace')"
   ]
  },
  {
   "cell_type": "markdown",
   "metadata": {
    "slideshow": {
     "slide_type": "slide"
    }
   },
   "source": [
    "## A short memory exercise"
   ]
  },
  {
   "cell_type": "code",
   "execution_count": 9,
   "metadata": {
    "slideshow": {
     "slide_type": "-"
    }
   },
   "outputs": [],
   "source": [
    "s = \"ewQ;KDWad qwe24a]s[awv;'15324ansdanx!$0(\" * 2500"
   ]
  },
  {
   "cell_type": "code",
   "execution_count": 10,
   "metadata": {
    "slideshow": {
     "slide_type": "fragment"
    }
   },
   "outputs": [
    {
     "data": {
      "text/plain": [
       "100000"
      ]
     },
     "execution_count": 10,
     "metadata": {},
     "output_type": "execute_result"
    }
   ],
   "source": [
    "len(s)"
   ]
  },
  {
   "cell_type": "code",
   "execution_count": 13,
   "metadata": {
    "slideshow": {
     "slide_type": "fragment"
    }
   },
   "outputs": [
    {
     "data": {
      "text/plain": [
       "100049"
      ]
     },
     "execution_count": 13,
     "metadata": {},
     "output_type": "execute_result"
    }
   ],
   "source": [
    "import sys\n",
    "sys.getsizeof(s)"
   ]
  },
  {
   "cell_type": "markdown",
   "metadata": {
    "slideshow": {
     "slide_type": "subslide"
    }
   },
   "source": [
    "## A short memory exercise"
   ]
  },
  {
   "cell_type": "code",
   "execution_count": 15,
   "metadata": {
    "slideshow": {
     "slide_type": "-"
    }
   },
   "outputs": [],
   "source": [
    "s1 = s + 'é'\n",
    "s2 = s + '€'\n",
    "s3 = s + '👍'"
   ]
  },
  {
   "cell_type": "code",
   "execution_count": 16,
   "metadata": {
    "slideshow": {
     "slide_type": "fragment"
    }
   },
   "outputs": [
    {
     "data": {
      "text/plain": [
       "100074"
      ]
     },
     "execution_count": 16,
     "metadata": {},
     "output_type": "execute_result"
    }
   ],
   "source": [
    "sys.getsizeof(s1)"
   ]
  },
  {
   "cell_type": "code",
   "execution_count": 17,
   "metadata": {
    "slideshow": {
     "slide_type": "fragment"
    }
   },
   "outputs": [
    {
     "data": {
      "text/plain": [
       "200076"
      ]
     },
     "execution_count": 17,
     "metadata": {},
     "output_type": "execute_result"
    }
   ],
   "source": [
    "sys.getsizeof(s2)"
   ]
  },
  {
   "cell_type": "code",
   "execution_count": 18,
   "metadata": {
    "slideshow": {
     "slide_type": "fragment"
    }
   },
   "outputs": [
    {
     "data": {
      "text/plain": [
       "400080"
      ]
     },
     "execution_count": 18,
     "metadata": {},
     "output_type": "execute_result"
    }
   ],
   "source": [
    "sys.getsizeof(s3)"
   ]
  },
  {
   "cell_type": "markdown",
   "metadata": {
    "slideshow": {
     "slide_type": "subslide"
    }
   },
   "source": [
    "## Implementation of strings\n",
    "\n",
    "> Unicode objects internally use a variety of representations, in order to allow handling the complete range of Unicode characters while staying memory efficient. There are special cases for strings where all code points are below 128, 256, or 65536 \\[…\\]\n",
    "\n",
    "https://docs.python.org/3/c-api/unicode.html"
   ]
  },
  {
   "cell_type": "markdown",
   "metadata": {
    "slideshow": {
     "slide_type": "slide"
    }
   },
   "source": [
    "## Other languages\n",
    "\n",
    "- **Haskell:** Linked list of Unicode code points\n",
    "- **Java / JavaScript:** Sequence of UTF-16 codes\n",
    "- **Go / Rust:** Sequence of bytes, UTF-8 encoded\n",
    "- **C:** ¯\\\\_(ツ)_/¯"
   ]
  },
  {
   "cell_type": "markdown",
   "metadata": {
    "slideshow": {
     "slide_type": "slide"
    }
   },
   "source": [
    "# Thank You!"
   ]
  }
 ],
 "metadata": {
  "celltoolbar": "Slideshow",
  "kernelspec": {
   "display_name": "Python 3",
   "language": "python",
   "name": "python3"
  },
  "language_info": {
   "codemirror_mode": {
    "name": "ipython",
    "version": 3
   },
   "file_extension": ".py",
   "mimetype": "text/x-python",
   "name": "python",
   "nbconvert_exporter": "python",
   "pygments_lexer": "ipython3",
   "version": "3.8.2"
  },
  "pycharm": {
   "stem_cell": {
    "cell_type": "raw",
    "metadata": {
     "collapsed": false
    },
    "source": []
   }
  }
 },
 "nbformat": 4,
 "nbformat_minor": 4
}
