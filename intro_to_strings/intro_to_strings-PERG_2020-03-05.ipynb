{
 "cells": [
  {
   "cell_type": "markdown",
   "metadata": {
    "slideshow": {
     "slide_type": "slide"
    }
   },
   "source": [
    "# Introduction to Strings\n",
    "\n",
    "Algorithms PERG – Mar. 5<sup>th</sup>, 2020\n",
    "\n",
    "by Xavier Villaneau"
   ]
  },
  {
   "cell_type": "markdown",
   "metadata": {
    "slideshow": {
     "slide_type": "slide"
    }
   },
   "source": [
    "## What is a string?"
   ]
  },
  {
   "cell_type": "markdown",
   "metadata": {
    "slideshow": {
     "slide_type": "fragment"
    }
   },
   "source": [
    "- **Goal:**  \n",
    "  Represent text in a computer\n",
    "\n",
    "- **Problem:**  \n",
    "  Computers only understand numbers\n",
    "\n",
    "- **Solution:**  \n",
    "  Store letters as numbers!"
   ]
  },
  {
   "cell_type": "markdown",
   "metadata": {
    "slideshow": {
     "slide_type": "slide"
    }
   },
   "source": [
    "## String = Sequence of numbers"
   ]
  },
  {
   "cell_type": "code",
   "execution_count": 1,
   "metadata": {
    "slideshow": {
     "slide_type": "fragment"
    }
   },
   "outputs": [
    {
     "data": {
      "text/plain": [
       "[72, 101, 108, 108, 111, 32, 87, 111, 114, 108, 100, 33]"
      ]
     },
     "execution_count": 1,
     "metadata": {},
     "output_type": "execute_result"
    }
   ],
   "source": [
    "list(b\"Hello World!\")"
   ]
  },
  {
   "cell_type": "markdown",
   "metadata": {
    "slideshow": {
     "slide_type": "fragment"
    }
   },
   "source": [
    "Any structure as long as it's ordered:  \n",
    "array, linked list, tree…"
   ]
  },
  {
   "cell_type": "markdown",
   "metadata": {
    "slideshow": {
     "slide_type": "slide"
    }
   },
   "source": [
    "## How do strings work?\n",
    "\n",
    "Matching letters to numbers = **Encoding**"
   ]
  },
  {
   "cell_type": "markdown",
   "metadata": {
    "slideshow": {
     "slide_type": "fragment"
    }
   },
   "source": [
    "Binary text encoding is _much_ older than computers:\n",
    "* Baudot code: 1874\n",
    "* Colossus computer: 1944"
   ]
  },
  {
   "cell_type": "markdown",
   "metadata": {
    "slideshow": {
     "slide_type": "slide"
    }
   },
   "source": [
    "## The ASCII Encoding\n",
    "\n",
    "- 7-bit code (128 characters)\n",
    "- Published in 1963\n",
    "- Designed for Teletype / Teleprinters\n",
    "- Base of practically all other encodings created since"
   ]
  },
  {
   "cell_type": "markdown",
   "metadata": {
    "slideshow": {
     "slide_type": "subslide"
    }
   },
   "source": [
    "## The ASCII Encoding"
   ]
  },
  {
   "cell_type": "code",
   "execution_count": 2,
   "metadata": {
    "slideshow": {
     "slide_type": "skip"
    }
   },
   "outputs": [],
   "source": [
    "import numpy as np\n",
    "import pandas as pd\n",
    "\n",
    "ascii_chars = [\n",
    "    \"␀␁␂␃␄␅␆␇␈␉␊␋␌␍␎␏\",\n",
    "    \"␐␑␒␓␔␕␖␗␘␙␚␛␜␝␞␟\",\n",
    "    \" !\\\"#$%&'()*+,-./\",\n",
    "    \"0123456789:;<=>?\",\n",
    "    \"@ABCDEFGHIJKLMNO\",\n",
    "    \"PQRSTUVWXZY[\\\\]^_\",\n",
    "    \"`abcdefghijklmno\",\n",
    "    \"pqrstuvwxyz{|}~␡\",\n",
    "]\n",
    "ascii_col = [f\"_{n:x}\" for n in range(16)]\n",
    "ascii_row = [f\"{n:x}_\" for n in range(8)]\n",
    "np_ascii = np.array([list(line) for line in ascii_chars])\n",
    "ascii_table = pd.DataFrame(np_ascii, columns=ascii_col, index=ascii_row)"
   ]
  },
  {
   "cell_type": "code",
   "execution_count": 3,
   "metadata": {
    "slideshow": {
     "slide_type": "-"
    }
   },
   "outputs": [
    {
     "data": {
      "text/html": [
       "<div>\n",
       "<style scoped>\n",
       "    .dataframe tbody tr th:only-of-type {\n",
       "        vertical-align: middle;\n",
       "    }\n",
       "\n",
       "    .dataframe tbody tr th {\n",
       "        vertical-align: top;\n",
       "    }\n",
       "\n",
       "    .dataframe thead th {\n",
       "        text-align: right;\n",
       "    }\n",
       "</style>\n",
       "<table border=\"1\" class=\"dataframe\">\n",
       "  <thead>\n",
       "    <tr style=\"text-align: right;\">\n",
       "      <th></th>\n",
       "      <th>_0</th>\n",
       "      <th>_1</th>\n",
       "      <th>_2</th>\n",
       "      <th>_3</th>\n",
       "      <th>_4</th>\n",
       "      <th>_5</th>\n",
       "      <th>_6</th>\n",
       "      <th>_7</th>\n",
       "      <th>_8</th>\n",
       "      <th>_9</th>\n",
       "      <th>_a</th>\n",
       "      <th>_b</th>\n",
       "      <th>_c</th>\n",
       "      <th>_d</th>\n",
       "      <th>_e</th>\n",
       "      <th>_f</th>\n",
       "    </tr>\n",
       "  </thead>\n",
       "  <tbody>\n",
       "    <tr>\n",
       "      <th>0_</th>\n",
       "      <td>␀</td>\n",
       "      <td>␁</td>\n",
       "      <td>␂</td>\n",
       "      <td>␃</td>\n",
       "      <td>␄</td>\n",
       "      <td>␅</td>\n",
       "      <td>␆</td>\n",
       "      <td>␇</td>\n",
       "      <td>␈</td>\n",
       "      <td>␉</td>\n",
       "      <td>␊</td>\n",
       "      <td>␋</td>\n",
       "      <td>␌</td>\n",
       "      <td>␍</td>\n",
       "      <td>␎</td>\n",
       "      <td>␏</td>\n",
       "    </tr>\n",
       "    <tr>\n",
       "      <th>1_</th>\n",
       "      <td>␐</td>\n",
       "      <td>␑</td>\n",
       "      <td>␒</td>\n",
       "      <td>␓</td>\n",
       "      <td>␔</td>\n",
       "      <td>␕</td>\n",
       "      <td>␖</td>\n",
       "      <td>␗</td>\n",
       "      <td>␘</td>\n",
       "      <td>␙</td>\n",
       "      <td>␚</td>\n",
       "      <td>␛</td>\n",
       "      <td>␜</td>\n",
       "      <td>␝</td>\n",
       "      <td>␞</td>\n",
       "      <td>␟</td>\n",
       "    </tr>\n",
       "    <tr>\n",
       "      <th>2_</th>\n",
       "      <td></td>\n",
       "      <td>!</td>\n",
       "      <td>\"</td>\n",
       "      <td>#</td>\n",
       "      <td>$</td>\n",
       "      <td>%</td>\n",
       "      <td>&amp;</td>\n",
       "      <td>'</td>\n",
       "      <td>(</td>\n",
       "      <td>)</td>\n",
       "      <td>*</td>\n",
       "      <td>+</td>\n",
       "      <td>,</td>\n",
       "      <td>-</td>\n",
       "      <td>.</td>\n",
       "      <td>/</td>\n",
       "    </tr>\n",
       "    <tr>\n",
       "      <th>3_</th>\n",
       "      <td>0</td>\n",
       "      <td>1</td>\n",
       "      <td>2</td>\n",
       "      <td>3</td>\n",
       "      <td>4</td>\n",
       "      <td>5</td>\n",
       "      <td>6</td>\n",
       "      <td>7</td>\n",
       "      <td>8</td>\n",
       "      <td>9</td>\n",
       "      <td>:</td>\n",
       "      <td>;</td>\n",
       "      <td>&lt;</td>\n",
       "      <td>=</td>\n",
       "      <td>&gt;</td>\n",
       "      <td>?</td>\n",
       "    </tr>\n",
       "    <tr>\n",
       "      <th>4_</th>\n",
       "      <td>@</td>\n",
       "      <td>A</td>\n",
       "      <td>B</td>\n",
       "      <td>C</td>\n",
       "      <td>D</td>\n",
       "      <td>E</td>\n",
       "      <td>F</td>\n",
       "      <td>G</td>\n",
       "      <td>H</td>\n",
       "      <td>I</td>\n",
       "      <td>J</td>\n",
       "      <td>K</td>\n",
       "      <td>L</td>\n",
       "      <td>M</td>\n",
       "      <td>N</td>\n",
       "      <td>O</td>\n",
       "    </tr>\n",
       "    <tr>\n",
       "      <th>5_</th>\n",
       "      <td>P</td>\n",
       "      <td>Q</td>\n",
       "      <td>R</td>\n",
       "      <td>S</td>\n",
       "      <td>T</td>\n",
       "      <td>U</td>\n",
       "      <td>V</td>\n",
       "      <td>W</td>\n",
       "      <td>X</td>\n",
       "      <td>Z</td>\n",
       "      <td>Y</td>\n",
       "      <td>[</td>\n",
       "      <td>\\</td>\n",
       "      <td>]</td>\n",
       "      <td>^</td>\n",
       "      <td>_</td>\n",
       "    </tr>\n",
       "    <tr>\n",
       "      <th>6_</th>\n",
       "      <td>`</td>\n",
       "      <td>a</td>\n",
       "      <td>b</td>\n",
       "      <td>c</td>\n",
       "      <td>d</td>\n",
       "      <td>e</td>\n",
       "      <td>f</td>\n",
       "      <td>g</td>\n",
       "      <td>h</td>\n",
       "      <td>i</td>\n",
       "      <td>j</td>\n",
       "      <td>k</td>\n",
       "      <td>l</td>\n",
       "      <td>m</td>\n",
       "      <td>n</td>\n",
       "      <td>o</td>\n",
       "    </tr>\n",
       "    <tr>\n",
       "      <th>7_</th>\n",
       "      <td>p</td>\n",
       "      <td>q</td>\n",
       "      <td>r</td>\n",
       "      <td>s</td>\n",
       "      <td>t</td>\n",
       "      <td>u</td>\n",
       "      <td>v</td>\n",
       "      <td>w</td>\n",
       "      <td>x</td>\n",
       "      <td>y</td>\n",
       "      <td>z</td>\n",
       "      <td>{</td>\n",
       "      <td>|</td>\n",
       "      <td>}</td>\n",
       "      <td>~</td>\n",
       "      <td>␡</td>\n",
       "    </tr>\n",
       "  </tbody>\n",
       "</table>\n",
       "</div>"
      ],
      "text/plain": [
       "   _0 _1 _2 _3 _4 _5 _6 _7 _8 _9 _a _b _c _d _e _f\n",
       "0_  ␀  ␁  ␂  ␃  ␄  ␅  ␆  ␇  ␈  ␉  ␊  ␋  ␌  ␍  ␎  ␏\n",
       "1_  ␐  ␑  ␒  ␓  ␔  ␕  ␖  ␗  ␘  ␙  ␚  ␛  ␜  ␝  ␞  ␟\n",
       "2_     !  \"  #  $  %  &  '  (  )  *  +  ,  -  .  /\n",
       "3_  0  1  2  3  4  5  6  7  8  9  :  ;  <  =  >  ?\n",
       "4_  @  A  B  C  D  E  F  G  H  I  J  K  L  M  N  O\n",
       "5_  P  Q  R  S  T  U  V  W  X  Z  Y  [  \\  ]  ^  _\n",
       "6_  `  a  b  c  d  e  f  g  h  i  j  k  l  m  n  o\n",
       "7_  p  q  r  s  t  u  v  w  x  y  z  {  |  }  ~  ␡"
      ]
     },
     "execution_count": 3,
     "metadata": {},
     "output_type": "execute_result"
    }
   ],
   "source": [
    "ascii_table"
   ]
  },
  {
   "cell_type": "markdown",
   "metadata": {
    "slideshow": {
     "slide_type": "slide"
    }
   },
   "source": [
    "## What about other languages?\n",
    "\n",
    "\"Extended ASCII\" codes use the 8<sup>th</sup> bit for 128 extra characters."
   ]
  },
  {
   "cell_type": "markdown",
   "metadata": {
    "slideshow": {
     "slide_type": "fragment"
    }
   },
   "source": [
    "- ISO-8859\n",
    "- KOI8\n",
    "- Windows-1252\n",
    "- Mac OS Roman\n",
    "- …"
   ]
  },
  {
   "cell_type": "markdown",
   "metadata": {
    "slideshow": {
     "slide_type": "slide"
    }
   },
   "source": [
    "## Unicode\n",
    "\n",
    "Having all these encodings is inconvenient, because Internet."
   ]
  },
  {
   "cell_type": "markdown",
   "metadata": {
    "slideshow": {
     "slide_type": "fragment"
    }
   },
   "source": [
    "**Unicode** = international standard for encoding text.  \n",
    "Currently includes 137,994 characters!"
   ]
  },
  {
   "cell_type": "markdown",
   "metadata": {
    "slideshow": {
     "slide_type": "subslide"
    }
   },
   "source": [
    "## UTF-8\n",
    "\n",
    "UTF-8 is the most popular way to encode Unicode."
   ]
  },
  {
   "cell_type": "markdown",
   "metadata": {
    "slideshow": {
     "slide_type": "fragment"
    }
   },
   "source": [
    "- Superset of ASCII\n",
    "- Uses between 1 and 4 bytes per character\n",
    "- Never produces null bytes except for `U+0`"
   ]
  },
  {
   "cell_type": "markdown",
   "metadata": {
    "slideshow": {
     "slide_type": "subslide"
    }
   },
   "source": [
    "## ⚠ Unicode ≠ UTF-8 ⚠\n",
    "\n",
    "- **Unicode:**  \n",
    "  Assigns _code points_ to characters\n",
    "- **UTF-8:**  \n",
    "  Converts code points into _bytes_\n",
    "\n",
    "Alternatives to UTF-8 exist, e.g. UTF-16."
   ]
  },
  {
   "cell_type": "markdown",
   "metadata": {
    "slideshow": {
     "slide_type": "slide"
    }
   },
   "source": [
    "## Demonstration"
   ]
  },
  {
   "cell_type": "code",
   "execution_count": 4,
   "metadata": {
    "scrolled": false,
    "slideshow": {
     "slide_type": "-"
    }
   },
   "outputs": [
    {
     "data": {
      "text/plain": [
       "'Pandora 👍🏿'"
      ]
     },
     "execution_count": 4,
     "metadata": {},
     "output_type": "execute_result"
    }
   ],
   "source": [
    "s = \"Pandora \\U0001F44D\\U0001F3FF\"\n",
    "s"
   ]
  },
  {
   "cell_type": "code",
   "execution_count": 5,
   "metadata": {
    "slideshow": {
     "slide_type": "fragment"
    }
   },
   "outputs": [
    {
     "data": {
      "text/plain": [
       "b'Pandora \\xf0\\x9f\\x91\\x8d\\xf0\\x9f\\x8f\\xbf'"
      ]
     },
     "execution_count": 5,
     "metadata": {},
     "output_type": "execute_result"
    }
   ],
   "source": [
    "s.encode('utf-8')"
   ]
  },
  {
   "cell_type": "code",
   "execution_count": 9,
   "metadata": {
    "slideshow": {
     "slide_type": "fragment"
    }
   },
   "outputs": [
    {
     "data": {
      "text/plain": [
       "'Pandora ðŸ‘�ðŸ�¿'"
      ]
     },
     "execution_count": 9,
     "metadata": {},
     "output_type": "execute_result"
    }
   ],
   "source": [
    "s.encode('utf-8').decode('cp1252', 'replace')"
   ]
  },
  {
   "cell_type": "markdown",
   "metadata": {
    "slideshow": {
     "slide_type": "slide"
    }
   },
   "source": [
    "## Implementations"
   ]
  },
  {
   "cell_type": "markdown",
   "metadata": {
    "slideshow": {
     "slide_type": "fragment"
    }
   },
   "source": [
    "- **Python 3:** Sequence of Unicode code points\n",
    "- **Java / JavaScript:** Sequence of UTF-16 codes\n",
    "- **Go / Rust:** Sequence of bytes, UTF-8 encoded\n",
    "- **C:** ¯\\\\_(ツ)_/¯"
   ]
  },
  {
   "cell_type": "markdown",
   "metadata": {
    "slideshow": {
     "slide_type": "slide"
    }
   },
   "source": [
    "# Thank You!"
   ]
  }
 ],
 "metadata": {
  "celltoolbar": "Slideshow",
  "kernelspec": {
   "display_name": "Python 3",
   "language": "python",
   "name": "python3"
  },
  "language_info": {
   "codemirror_mode": {
    "name": "ipython",
    "version": 3
   },
   "file_extension": ".py",
   "mimetype": "text/x-python",
   "name": "python",
   "nbconvert_exporter": "python",
   "pygments_lexer": "ipython3",
   "version": "3.8.2"
  },
  "pycharm": {
   "stem_cell": {
    "cell_type": "raw",
    "source": [],
    "metadata": {
     "collapsed": false
    }
   }
  }
 },
 "nbformat": 4,
 "nbformat_minor": 4
}